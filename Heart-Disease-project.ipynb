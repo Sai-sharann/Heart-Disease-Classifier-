{
 "cells": [
  {
   "cell_type": "markdown",
   "id": "41291251",
   "metadata": {},
   "source": [
    "## Predicting heart disease using machine learning\n",
    "\n",
    "This notebook looks into using various Python-based machine learning and data science libraries in an attempt to build a machine learning model capable of predicting wheather or not someone has heart disease based on their medical attributes.\n",
    "\n",
    "\n",
    "We're going to take the following approach:\n",
    "1. Problem Definition\n",
    "2. Data\n",
    "3. Evaluaion\n",
    "4. Features\n",
    "5. Modelling\n",
    "6. Experimentation\n",
    "\n",
    "## 1.Problem Definition\n",
    "\n",
    "In a statement,\n",
    "> Given clinical parameters about a patient, can we predict wheather or not they have heart disease?\n",
    "\n",
    "## 2.Data \n",
    "\n",
    "The original data came from the cleavlad data from UCI machine learning repository.\n",
    "https://archive-beta.ics.uci.edu/ml/datasets/heart+disease\n",
    "\n",
    "There is also a version of it available in Kaggle.https://www.kaggle.com/datasets/cherngs/heart-disease-cleveland-uci\n",
    "\n",
    "## 3.Evaluation\n",
    "\n",
    ">If we can reach 95% accuracy in predicting wheather or not a patient has heart diease during the proof of concept , we'll persue the project. \n",
    "\n",
    "## 4.Features\n",
    "\n",
    "This is where you will get different information about each of the features in the data.\n",
    "\n",
    "**Create data dictionary**\n",
    "\n",
    " 1. age: age in years\n",
    " 2. sex: sex (1 = male; 0 = female)\n",
    " 3. cp: chest pain type\n",
    "    * Value 0: typical angina\n",
    "    * Value 1: atypical angina\n",
    "    * Value 2: non-anginal pain\n",
    "    * Value 3: asymptomatic\n",
    " 4. trestbps: resting blood pressure (in mm Hg on admission to the hospital)\n",
    " 5. chol: serum cholestoral in mg/dl\n",
    " 6. fbs: (fasting blood sugar > 120 mg/dl) (1 = true; 0 = false)\n",
    " 7. restecg: resting electrocardiographic results\n",
    "    * Value 0: normal\n",
    "    * Value 1: having ST-T wave abnormality (T wave inversions and/or ST elevation or depression of > 0.05 mV)\n",
    "    * Value 2: showing probable or definite left ventricular hypertrophy by Estes' criteria\n",
    " 8. thalach: maximum heart rate achieved\n",
    " 9. exang: exercise induced angina (1 = yes; 0 = no)\n",
    " 10. oldpeak = ST depression induced by exercise relative to rest\n",
    " 11. slope: the slope of the peak exercise ST segment\n",
    "     * Value 0: upsloping\n",
    "     * Value 1: flat\n",
    "     * Value 2: downsloping\n",
    " 12. ca: number of major vessels (0-3) colored by flourosopy\n",
    " 13. thal: 0 = normal; 1 = fixed defect; 2 = reversable defect."
   ]
  },
  {
   "cell_type": "markdown",
   "id": "1580f67b",
   "metadata": {},
   "source": [
    "## Preparing the tools\n",
    "\n",
    "We're going to use pandas,numpy and matplotlib for data analysis and manipulation."
   ]
  },
  {
   "cell_type": "code",
   "execution_count": 1,
   "id": "e4c19b2a",
   "metadata": {},
   "outputs": [],
   "source": [
    "#import all the tools we need\n",
    "\n",
    "#Regular EDA (exploratory data analysis) and plotting libraries.\n",
    "import pandas as pd\n",
    "import numpy as np\n",
    "import matplotlib.pyplot as plt\n",
    "import seaborn as sns\n",
    "\n",
    "# we want our plot to appear inside our notebook\n",
    "%matplotlib inline\n",
    "\n",
    "#sklearn models\n",
    "from sklearn.linear_model import LogisticRegression\n",
    "from sklearn.neighbors import KNeighborsClassifier\n",
    "from sklearn.ensemble import RandomForestClassifier\n",
    "\n",
    "#Model Evaluations\n",
    "from sklearn.model_selection import train_test_split,cross_val_score\n",
    "from sklearn.model_selection import RandomizedSearchCV,GridSearchCV\n",
    "from sklearn.metrics import classification_report,confusion_matrix\n",
    "from sklearn.metrics import precision_score,recall_score,f1_score\n",
    "from sklearn.metrics import plot_roc_curve"
   ]
  },
  {
   "cell_type": "markdown",
   "id": "f3825154",
   "metadata": {},
   "source": [
    "## Load Data"
   ]
  },
  {
   "cell_type": "code",
   "execution_count": 2,
   "id": "f750834f",
   "metadata": {},
   "outputs": [
    {
     "data": {
      "text/plain": [
       "(297, 14)"
      ]
     },
     "execution_count": 2,
     "metadata": {},
     "output_type": "execute_result"
    }
   ],
   "source": [
    "df=pd.read_csv(\"heart.csv\")\n",
    "df.shape #rows,col"
   ]
  },
  {
   "cell_type": "markdown",
   "id": "ca37dd50",
   "metadata": {},
   "source": [
    "## Data exploration (Exploratory data analysis)\n",
    "\n",
    "The goal here is to find out more about our data and become a subject matter expert on the dataset you're working with\n",
    "\n",
    "1. What question(s) are we trying to solve?\n",
    "2. What kind of data do we have and how do we treat different types?\n",
    "3. What's missing from our data and how do you deal with it?\n",
    "4. What are the outliers and why should you care about them?\n",
    "5. How can u add change and remove features to get more out of your data?"
   ]
  },
  {
   "cell_type": "code",
   "execution_count": 3,
   "id": "fb8f7681",
   "metadata": {},
   "outputs": [
    {
     "data": {
      "text/html": [
       "<div>\n",
       "<style scoped>\n",
       "    .dataframe tbody tr th:only-of-type {\n",
       "        vertical-align: middle;\n",
       "    }\n",
       "\n",
       "    .dataframe tbody tr th {\n",
       "        vertical-align: top;\n",
       "    }\n",
       "\n",
       "    .dataframe thead th {\n",
       "        text-align: right;\n",
       "    }\n",
       "</style>\n",
       "<table border=\"1\" class=\"dataframe\">\n",
       "  <thead>\n",
       "    <tr style=\"text-align: right;\">\n",
       "      <th></th>\n",
       "      <th>age</th>\n",
       "      <th>sex</th>\n",
       "      <th>cp</th>\n",
       "      <th>trestbps</th>\n",
       "      <th>chol</th>\n",
       "      <th>fbs</th>\n",
       "      <th>restecg</th>\n",
       "      <th>thalach</th>\n",
       "      <th>exang</th>\n",
       "      <th>oldpeak</th>\n",
       "      <th>slope</th>\n",
       "      <th>ca</th>\n",
       "      <th>thal</th>\n",
       "      <th>condition</th>\n",
       "    </tr>\n",
       "  </thead>\n",
       "  <tbody>\n",
       "    <tr>\n",
       "      <th>0</th>\n",
       "      <td>69</td>\n",
       "      <td>1</td>\n",
       "      <td>0</td>\n",
       "      <td>160</td>\n",
       "      <td>234</td>\n",
       "      <td>1</td>\n",
       "      <td>2</td>\n",
       "      <td>131</td>\n",
       "      <td>0</td>\n",
       "      <td>0.1</td>\n",
       "      <td>1</td>\n",
       "      <td>1</td>\n",
       "      <td>0</td>\n",
       "      <td>0</td>\n",
       "    </tr>\n",
       "    <tr>\n",
       "      <th>1</th>\n",
       "      <td>69</td>\n",
       "      <td>0</td>\n",
       "      <td>0</td>\n",
       "      <td>140</td>\n",
       "      <td>239</td>\n",
       "      <td>0</td>\n",
       "      <td>0</td>\n",
       "      <td>151</td>\n",
       "      <td>0</td>\n",
       "      <td>1.8</td>\n",
       "      <td>0</td>\n",
       "      <td>2</td>\n",
       "      <td>0</td>\n",
       "      <td>0</td>\n",
       "    </tr>\n",
       "    <tr>\n",
       "      <th>2</th>\n",
       "      <td>66</td>\n",
       "      <td>0</td>\n",
       "      <td>0</td>\n",
       "      <td>150</td>\n",
       "      <td>226</td>\n",
       "      <td>0</td>\n",
       "      <td>0</td>\n",
       "      <td>114</td>\n",
       "      <td>0</td>\n",
       "      <td>2.6</td>\n",
       "      <td>2</td>\n",
       "      <td>0</td>\n",
       "      <td>0</td>\n",
       "      <td>0</td>\n",
       "    </tr>\n",
       "    <tr>\n",
       "      <th>3</th>\n",
       "      <td>65</td>\n",
       "      <td>1</td>\n",
       "      <td>0</td>\n",
       "      <td>138</td>\n",
       "      <td>282</td>\n",
       "      <td>1</td>\n",
       "      <td>2</td>\n",
       "      <td>174</td>\n",
       "      <td>0</td>\n",
       "      <td>1.4</td>\n",
       "      <td>1</td>\n",
       "      <td>1</td>\n",
       "      <td>0</td>\n",
       "      <td>1</td>\n",
       "    </tr>\n",
       "    <tr>\n",
       "      <th>4</th>\n",
       "      <td>64</td>\n",
       "      <td>1</td>\n",
       "      <td>0</td>\n",
       "      <td>110</td>\n",
       "      <td>211</td>\n",
       "      <td>0</td>\n",
       "      <td>2</td>\n",
       "      <td>144</td>\n",
       "      <td>1</td>\n",
       "      <td>1.8</td>\n",
       "      <td>1</td>\n",
       "      <td>0</td>\n",
       "      <td>0</td>\n",
       "      <td>0</td>\n",
       "    </tr>\n",
       "  </tbody>\n",
       "</table>\n",
       "</div>"
      ],
      "text/plain": [
       "   age  sex  cp  trestbps  chol  fbs  restecg  thalach  exang  oldpeak  slope  \\\n",
       "0   69    1   0       160   234    1        2      131      0      0.1      1   \n",
       "1   69    0   0       140   239    0        0      151      0      1.8      0   \n",
       "2   66    0   0       150   226    0        0      114      0      2.6      2   \n",
       "3   65    1   0       138   282    1        2      174      0      1.4      1   \n",
       "4   64    1   0       110   211    0        2      144      1      1.8      1   \n",
       "\n",
       "   ca  thal  condition  \n",
       "0   1     0          0  \n",
       "1   2     0          0  \n",
       "2   0     0          0  \n",
       "3   1     0          1  \n",
       "4   0     0          0  "
      ]
     },
     "execution_count": 3,
     "metadata": {},
     "output_type": "execute_result"
    }
   ],
   "source": [
    "df.head()"
   ]
  },
  {
   "cell_type": "code",
   "execution_count": 4,
   "id": "9d4f142a",
   "metadata": {},
   "outputs": [
    {
     "data": {
      "text/plain": [
       "0    160\n",
       "1    137\n",
       "Name: condition, dtype: int64"
      ]
     },
     "execution_count": 4,
     "metadata": {},
     "output_type": "execute_result"
    }
   ],
   "source": [
    "df.condition.value_counts()"
   ]
  },
  {
   "cell_type": "code",
   "execution_count": 5,
   "id": "0197c28d",
   "metadata": {},
   "outputs": [
    {
     "data": {
      "image/png": "[encoded data removed]",
      "text/plain": [
       "<Figure size 432x288 with 1 Axes>"
      ]
     },
     "metadata": {
      "needs_background": "light"
     },
     "output_type": "display_data"
    }
   ],
   "source": [
    "df.condition.value_counts().plot(kind=\"bar\",color=[\"aqua\",\"khaki\"]);"
   ]
  },
  {
   "cell_type": "code",
   "execution_count": 6,
   "id": "77cc9872",
   "metadata": {},
   "outputs": [
    {
     "name": "stdout",
     "output_type": "stream",
     "text": [
      "<class 'pandas.core.frame.DataFrame'>\n",
      "RangeIndex: 297 entries, 0 to 296\n",
      "Data columns (total 14 columns):\n",
      " #   Column     Non-Null Count  Dtype  \n",
      "---  ------     --------------  -----  \n",
      " 0   age        297 non-null    int64  \n",
      " 1   sex        297 non-null    int64  \n",
      " 2   cp         297 non-null    int64  \n",
      " 3   trestbps   297 non-null    int64  \n",
      " 4   chol       297 non-null    int64  \n",
      " 5   fbs        297 non-null    int64  \n",
      " 6   restecg    297 non-null    int64  \n",
      " 7   thalach    297 non-null    int64  \n",
      " 8   exang      297 non-null    int64  \n",
      " 9   oldpeak    297 non-null    float64\n",
      " 10  slope      297 non-null    int64  \n",
      " 11  ca         297 non-null    int64  \n",
      " 12  thal       297 non-null    int64  \n",
      " 13  condition  297 non-null    int64  \n",
      "dtypes: float64(1), int64(13)\n",
      "memory usage: 32.6 KB\n"
     ]
    }
   ],
   "source": [
    "df.info()"
   ]
  },
  {
   "cell_type": "code",
   "execution_count": 7,
   "id": "d78fb1a1",
   "metadata": {},
   "outputs": [
    {
     "data": {
      "text/plain": [
       "age          0\n",
       "sex          0\n",
       "cp           0\n",
       "trestbps     0\n",
       "chol         0\n",
       "fbs          0\n",
       "restecg      0\n",
       "thalach      0\n",
       "exang        0\n",
       "oldpeak      0\n",
       "slope        0\n",
       "ca           0\n",
       "thal         0\n",
       "condition    0\n",
       "dtype: int64"
      ]
     },
     "execution_count": 7,
     "metadata": {},
     "output_type": "execute_result"
    }
   ],
   "source": [
    "#Are there any missing values\n",
    "df.isna().sum()"
   ]
  },
  {
   "cell_type": "code",
   "execution_count": 8,
   "id": "92d40222",
   "metadata": {},
   "outputs": [
    {
     "data": {
      "text/html": [
       "<div>\n",
       "<style scoped>\n",
       "    .dataframe tbody tr th:only-of-type {\n",
       "        vertical-align: middle;\n",
       "    }\n",
       "\n",
       "    .dataframe tbody tr th {\n",
       "        vertical-align: top;\n",
       "    }\n",
       "\n",
       "    .dataframe thead th {\n",
       "        text-align: right;\n",
       "    }\n",
       "</style>\n",
       "<table border=\"1\" class=\"dataframe\">\n",
       "  <thead>\n",
       "    <tr style=\"text-align: right;\">\n",
       "      <th></th>\n",
       "      <th>age</th>\n",
       "      <th>sex</th>\n",
       "      <th>cp</th>\n",
       "      <th>trestbps</th>\n",
       "      <th>chol</th>\n",
       "      <th>fbs</th>\n",
       "      <th>restecg</th>\n",
       "      <th>thalach</th>\n",
       "      <th>exang</th>\n",
       "      <th>oldpeak</th>\n",
       "      <th>slope</th>\n",
       "      <th>ca</th>\n",
       "      <th>thal</th>\n",
       "      <th>condition</th>\n",
       "    </tr>\n",
       "  </thead>\n",
       "  <tbody>\n",
       "    <tr>\n",
       "      <th>count</th>\n",
       "      <td>297.000000</td>\n",
       "      <td>297.000000</td>\n",
       "      <td>297.000000</td>\n",
       "      <td>297.000000</td>\n",
       "      <td>297.000000</td>\n",
       "      <td>297.000000</td>\n",
       "      <td>297.000000</td>\n",
       "      <td>297.000000</td>\n",
       "      <td>297.000000</td>\n",
       "      <td>297.000000</td>\n",
       "      <td>297.000000</td>\n",
       "      <td>297.000000</td>\n",
       "      <td>297.000000</td>\n",
       "      <td>297.000000</td>\n",
       "    </tr>\n",
       "    <tr>\n",
       "      <th>mean</th>\n",
       "      <td>54.542088</td>\n",
       "      <td>0.676768</td>\n",
       "      <td>2.158249</td>\n",
       "      <td>131.693603</td>\n",
       "      <td>247.350168</td>\n",
       "      <td>0.144781</td>\n",
       "      <td>0.996633</td>\n",
       "      <td>149.599327</td>\n",
       "      <td>0.326599</td>\n",
       "      <td>1.055556</td>\n",
       "      <td>0.602694</td>\n",
       "      <td>0.676768</td>\n",
       "      <td>0.835017</td>\n",
       "      <td>0.461279</td>\n",
       "    </tr>\n",
       "    <tr>\n",
       "      <th>std</th>\n",
       "      <td>9.049736</td>\n",
       "      <td>0.468500</td>\n",
       "      <td>0.964859</td>\n",
       "      <td>17.762806</td>\n",
       "      <td>51.997583</td>\n",
       "      <td>0.352474</td>\n",
       "      <td>0.994914</td>\n",
       "      <td>22.941562</td>\n",
       "      <td>0.469761</td>\n",
       "      <td>1.166123</td>\n",
       "      <td>0.618187</td>\n",
       "      <td>0.938965</td>\n",
       "      <td>0.956690</td>\n",
       "      <td>0.499340</td>\n",
       "    </tr>\n",
       "    <tr>\n",
       "      <th>min</th>\n",
       "      <td>29.000000</td>\n",
       "      <td>0.000000</td>\n",
       "      <td>0.000000</td>\n",
       "      <td>94.000000</td>\n",
       "      <td>126.000000</td>\n",
       "      <td>0.000000</td>\n",
       "      <td>0.000000</td>\n",
       "      <td>71.000000</td>\n",
       "      <td>0.000000</td>\n",
       "      <td>0.000000</td>\n",
       "      <td>0.000000</td>\n",
       "      <td>0.000000</td>\n",
       "      <td>0.000000</td>\n",
       "      <td>0.000000</td>\n",
       "    </tr>\n",
       "    <tr>\n",
       "      <th>25%</th>\n",
       "      <td>48.000000</td>\n",
       "      <td>0.000000</td>\n",
       "      <td>2.000000</td>\n",
       "      <td>120.000000</td>\n",
       "      <td>211.000000</td>\n",
       "      <td>0.000000</td>\n",
       "      <td>0.000000</td>\n",
       "      <td>133.000000</td>\n",
       "      <td>0.000000</td>\n",
       "      <td>0.000000</td>\n",
       "      <td>0.000000</td>\n",
       "      <td>0.000000</td>\n",
       "      <td>0.000000</td>\n",
       "      <td>0.000000</td>\n",
       "    </tr>\n",
       "    <tr>\n",
       "      <th>50%</th>\n",
       "      <td>56.000000</td>\n",
       "      <td>1.000000</td>\n",
       "      <td>2.000000</td>\n",
       "      <td>130.000000</td>\n",
       "      <td>243.000000</td>\n",
       "      <td>0.000000</td>\n",
       "      <td>1.000000</td>\n",
       "      <td>153.000000</td>\n",
       "      <td>0.000000</td>\n",
       "      <td>0.800000</td>\n",
       "      <td>1.000000</td>\n",
       "      <td>0.000000</td>\n",
       "      <td>0.000000</td>\n",
       "      <td>0.000000</td>\n",
       "    </tr>\n",
       "    <tr>\n",
       "      <th>75%</th>\n",
       "      <td>61.000000</td>\n",
       "      <td>1.000000</td>\n",
       "      <td>3.000000</td>\n",
       "      <td>140.000000</td>\n",
       "      <td>276.000000</td>\n",
       "      <td>0.000000</td>\n",
       "      <td>2.000000</td>\n",
       "      <td>166.000000</td>\n",
       "      <td>1.000000</td>\n",
       "      <td>1.600000</td>\n",
       "      <td>1.000000</td>\n",
       "      <td>1.000000</td>\n",
       "      <td>2.000000</td>\n",
       "      <td>1.000000</td>\n",
       "    </tr>\n",
       "    <tr>\n",
       "      <th>max</th>\n",
       "      <td>77.000000</td>\n",
       "      <td>1.000000</td>\n",
       "      <td>3.000000</td>\n",
       "      <td>200.000000</td>\n",
       "      <td>564.000000</td>\n",
       "      <td>1.000000</td>\n",
       "      <td>2.000000</td>\n",
       "      <td>202.000000</td>\n",
       "      <td>1.000000</td>\n",
       "      <td>6.200000</td>\n",
       "      <td>2.000000</td>\n",
       "      <td>3.000000</td>\n",
       "      <td>2.000000</td>\n",
       "      <td>1.000000</td>\n",
       "    </tr>\n",
       "  </tbody>\n",
       "</table>\n",
       "</div>"
      ],
      "text/plain": [
       "              age         sex          cp    trestbps        chol         fbs  \\\n",
       "count  297.000000  297.000000  297.000000  297.000000  297.000000  297.000000   \n",
       "mean    54.542088    0.676768    2.158249  131.693603  247.350168    0.144781   \n",
       "std      9.049736    0.468500    0.964859   17.762806   51.997583    0.352474   \n",
       "min     29.000000    0.000000    0.000000   94.000000  126.000000    0.000000   \n",
       "25%     48.000000    0.000000    2.000000  120.000000  211.000000    0.000000   \n",
       "50%     56.000000    1.000000    2.000000  130.000000  243.000000    0.000000   \n",
       "75%     61.000000    1.000000    3.000000  140.000000  276.000000    0.000000   \n",
       "max     77.000000    1.000000    3.000000  200.000000  564.000000    1.000000   \n",
       "\n",
       "          restecg     thalach       exang     oldpeak       slope          ca  \\\n",
       "count  297.000000  297.000000  297.000000  297.000000  297.000000  297.000000   \n",
       "mean     0.996633  149.599327    0.326599    1.055556    0.602694    0.676768   \n",
       "std      0.994914   22.941562    0.469761    1.166123    0.618187    0.938965   \n",
       "min      0.000000   71.000000    0.000000    0.000000    0.000000    0.000000   \n",
       "25%      0.000000  133.000000    0.000000    0.000000    0.000000    0.000000   \n",
       "50%      1.000000  153.000000    0.000000    0.800000    1.000000    0.000000   \n",
       "75%      2.000000  166.000000    1.000000    1.600000    1.000000    1.000000   \n",
       "max      2.000000  202.000000    1.000000    6.200000    2.000000    3.000000   \n",
       "\n",
       "             thal   condition  \n",
       "count  297.000000  297.000000  \n",
       "mean     0.835017    0.461279  \n",
       "std      0.956690    0.499340  \n",
       "min      0.000000    0.000000  \n",
       "25%      0.000000    0.000000  \n",
       "50%      0.000000    0.000000  \n",
       "75%      2.000000    1.000000  \n",
       "max      2.000000    1.000000  "
      ]
     },
     "execution_count": 8,
     "metadata": {},
     "output_type": "execute_result"
    }
   ],
   "source": [
    "df.describe()"
   ]
  },
  {
   "cell_type": "markdown",
   "id": "334e7db8",
   "metadata": {},
   "source": [
    "## Heart Disease frequency according to sex"
   ]
  },
  {
   "cell_type": "code",
   "execution_count": 9,
   "id": "d8843367",
   "metadata": {},
   "outputs": [
    {
     "data": {
      "text/plain": [
       "1    201\n",
       "0     96\n",
       "Name: sex, dtype: int64"
      ]
     },
     "execution_count": 9,
     "metadata": {},
     "output_type": "execute_result"
    }
   ],
   "source": [
    "df.sex.value_counts()"
   ]
  },
  {
   "cell_type": "code",
   "execution_count": 10,
   "id": "d47fe67b",
   "metadata": {},
   "outputs": [
    {
     "data": {
      "text/html": [
       "<div>\n",
       "<style scoped>\n",
       "    .dataframe tbody tr th:only-of-type {\n",
       "        vertical-align: middle;\n",
       "    }\n",
       "\n",
       "    .dataframe tbody tr th {\n",
       "        vertical-align: top;\n",
       "    }\n",
       "\n",
       "    .dataframe thead th {\n",
       "        text-align: right;\n",
       "    }\n",
       "</style>\n",
       "<table border=\"1\" class=\"dataframe\">\n",
       "  <thead>\n",
       "    <tr style=\"text-align: right;\">\n",
       "      <th>condition</th>\n",
       "      <th>0</th>\n",
       "      <th>1</th>\n",
       "    </tr>\n",
       "    <tr>\n",
       "      <th>sex</th>\n",
       "      <th></th>\n",
       "      <th></th>\n",
       "    </tr>\n",
       "  </thead>\n",
       "  <tbody>\n",
       "    <tr>\n",
       "      <th>0</th>\n",
       "      <td>71</td>\n",
       "      <td>25</td>\n",
       "    </tr>\n",
       "    <tr>\n",
       "      <th>1</th>\n",
       "      <td>89</td>\n",
       "      <td>112</td>\n",
       "    </tr>\n",
       "  </tbody>\n",
       "</table>\n",
       "</div>"
      ],
      "text/plain": [
       "condition   0    1\n",
       "sex               \n",
       "0          71   25\n",
       "1          89  112"
      ]
     },
     "execution_count": 10,
     "metadata": {},
     "output_type": "execute_result"
    }
   ],
   "source": [
    "#compare sex column with condition column\n",
    "pd.crosstab(df.sex,df.condition)"
   ]
  },
  {
   "cell_type": "code",
   "execution_count": 11,
   "id": "ccce82d8",
   "metadata": {},
   "outputs": [
    {
     "data": {
      "image/png": "[encoded data removed]",
      "text/plain": [
       "<Figure size 720x432 with 1 Axes>"
      ]
     },
     "metadata": {
      "needs_background": "light"
     },
     "output_type": "display_data"
    }
   ],
   "source": [
    "#create a plot of crosstab\n",
    "pd.crosstab(df.condition,df.sex).plot(kind='bar',\n",
    "                                     figsize=(10,6),\n",
    "                                     color=['salmon','lightblue']);\n",
    "plt.title(\"Heart Disease frequency for Sex\")\n",
    "plt.xlabel(\"0 = No Disease , 1 = Disease\")\n",
    "plt.ylabel(\"Amount\")\n",
    "plt.legend([\"Female\",\"Male\"])\n",
    "plt.xticks(rotation=0);"
   ]
  },
  {
   "cell_type": "markdown",
   "id": "10563dd4",
   "metadata": {},
   "source": [
    "## Age vs thalach(max Heart rate) for heart disease"
   ]
  },
  {
   "cell_type": "code",
   "execution_count": 12,
   "id": "948ea110",
   "metadata": {},
   "outputs": [
    {
     "data": {
      "text/plain": [
       "162    11\n",
       "163     9\n",
       "160     9\n",
       "152     8\n",
       "172     7\n",
       "       ..\n",
       "192     1\n",
       "202     1\n",
       "167     1\n",
       "97      1\n",
       "195     1\n",
       "Name: thalach, Length: 91, dtype: int64"
      ]
     },
     "execution_count": 12,
     "metadata": {},
     "output_type": "execute_result"
    }
   ],
   "source": [
    "df.thalach.value_counts()"
   ]
  },
  {
   "cell_type": "code",
   "execution_count": 13,
   "id": "1402e64f",
   "metadata": {},
   "outputs": [
    {
     "data": {
      "image/png": "[encoded data removed]",
      "text/plain": [
       "<Figure size 720x432 with 1 Axes>"
      ]
     },
     "metadata": {
      "needs_background": "light"
     },
     "output_type": "display_data"
    }
   ],
   "source": [
    "#Create another figure\n",
    "plt.figure(figsize=(10,6))\n",
    "\n",
    "#scatter plot for positive values\n",
    "plt.scatter(df.age[df.condition==1],\n",
    "           df.thalach[df.condition==1],\n",
    "           color=\"salmon\");\n",
    "\n",
    "#scatter plot for negative values\n",
    "plt.scatter(df.age[df.condition==0],\n",
    "           df.thalach[df.condition==0],\n",
    "           color=\"lightblue\");\n",
    "\n",
    "plt.title(\"Heart Disease in function to max Heart rate and Age\")\n",
    "plt.xlabel(\"Age\")\n",
    "plt.ylabel(\"Max Heart Rate\")\n",
    "plt.legend([\"Disease\",\"No Disease\"]);"
   ]
  },
  {
   "cell_type": "code",
   "execution_count": 14,
   "id": "5c0d358c",
   "metadata": {},
   "outputs": [
    {
     "data": {
      "image/png": "[encoded data removed]",
      "text/plain": [
       "<Figure size 720x432 with 1 Axes>"
      ]
     },
     "metadata": {
      "needs_background": "light"
     },
     "output_type": "display_data"
    }
   ],
   "source": [
    "#Check the distribution of age column with histogram\n",
    "df.age.hist(figsize=(10,6));"
   ]
  },
  {
   "cell_type": "markdown",
   "id": "71746bb0",
   "metadata": {},
   "source": [
    "## Heart Disease frequency per chest pain\n",
    "\n",
    "3. cp: chest pain type\n",
    "   * Value 0: typical angina\n",
    "   * Value 1: atypical angina\n",
    "   * Value 2: non-anginal pain\n",
    "   * Value 3: asymptomatic\n"
   ]
  },
  {
   "cell_type": "code",
   "execution_count": 15,
   "id": "3af50660",
   "metadata": {},
   "outputs": [
    {
     "data": {
      "text/html": [
       "<div>\n",
       "<style scoped>\n",
       "    .dataframe tbody tr th:only-of-type {\n",
       "        vertical-align: middle;\n",
       "    }\n",
       "\n",
       "    .dataframe tbody tr th {\n",
       "        vertical-align: top;\n",
       "    }\n",
       "\n",
       "    .dataframe thead th {\n",
       "        text-align: right;\n",
       "    }\n",
       "</style>\n",
       "<table border=\"1\" class=\"dataframe\">\n",
       "  <thead>\n",
       "    <tr style=\"text-align: right;\">\n",
       "      <th>condition</th>\n",
       "      <th>0</th>\n",
       "      <th>1</th>\n",
       "    </tr>\n",
       "    <tr>\n",
       "      <th>cp</th>\n",
       "      <th></th>\n",
       "      <th></th>\n",
       "    </tr>\n",
       "  </thead>\n",
       "  <tbody>\n",
       "    <tr>\n",
       "      <th>0</th>\n",
       "      <td>16</td>\n",
       "      <td>7</td>\n",
       "    </tr>\n",
       "    <tr>\n",
       "      <th>1</th>\n",
       "      <td>40</td>\n",
       "      <td>9</td>\n",
       "    </tr>\n",
       "    <tr>\n",
       "      <th>2</th>\n",
       "      <td>65</td>\n",
       "      <td>18</td>\n",
       "    </tr>\n",
       "    <tr>\n",
       "      <th>3</th>\n",
       "      <td>39</td>\n",
       "      <td>103</td>\n",
       "    </tr>\n",
       "  </tbody>\n",
       "</table>\n",
       "</div>"
      ],
      "text/plain": [
       "condition   0    1\n",
       "cp                \n",
       "0          16    7\n",
       "1          40    9\n",
       "2          65   18\n",
       "3          39  103"
      ]
     },
     "execution_count": 15,
     "metadata": {},
     "output_type": "execute_result"
    }
   ],
   "source": [
    "pd.crosstab(df.cp , df.condition)"
   ]
  },
  {
   "cell_type": "code",
   "execution_count": 16,
   "id": "479de2f7",
   "metadata": {},
   "outputs": [
    {
     "data": {
      "image/png": "[encoded data removed]",
      "text/plain": [
       "<Figure size 720x432 with 1 Axes>"
      ]
     },
     "metadata": {
      "needs_background": "light"
     },
     "output_type": "display_data"
    }
   ],
   "source": [
    "#Make crosstab more visual\n",
    "pd.crosstab(df.cp,df.condition).plot(kind='bar',\n",
    "                                    figsize=(10,6),\n",
    "                                    color=['salmon','lightblue']);\n",
    "\n",
    "plt.title(\"Heart Disease frequency per chest pain\")\n",
    "plt.xlabel(\"Chest pain Type\")\n",
    "plt.ylabel(\"Amount\")\n",
    "plt.legend([\"Disease\",\"No Disease\"]);\n",
    "plt.xticks(rotation=0);"
   ]
  },
  {
   "cell_type": "code",
   "execution_count": 17,
   "id": "0e292924",
   "metadata": {},
   "outputs": [
    {
     "data": {
      "text/html": [
       "<div>\n",
       "<style scoped>\n",
       "    .dataframe tbody tr th:only-of-type {\n",
       "        vertical-align: middle;\n",
       "    }\n",
       "\n",
       "    .dataframe tbody tr th {\n",
       "        vertical-align: top;\n",
       "    }\n",
       "\n",
       "    .dataframe thead th {\n",
       "        text-align: right;\n",
       "    }\n",
       "</style>\n",
       "<table border=\"1\" class=\"dataframe\">\n",
       "  <thead>\n",
       "    <tr style=\"text-align: right;\">\n",
       "      <th></th>\n",
       "      <th>age</th>\n",
       "      <th>sex</th>\n",
       "      <th>cp</th>\n",
       "      <th>trestbps</th>\n",
       "      <th>chol</th>\n",
       "      <th>fbs</th>\n",
       "      <th>restecg</th>\n",
       "      <th>thalach</th>\n",
       "      <th>exang</th>\n",
       "      <th>oldpeak</th>\n",
       "      <th>slope</th>\n",
       "      <th>ca</th>\n",
       "      <th>thal</th>\n",
       "      <th>condition</th>\n",
       "    </tr>\n",
       "  </thead>\n",
       "  <tbody>\n",
       "    <tr>\n",
       "      <th>age</th>\n",
       "      <td>1.000000</td>\n",
       "      <td>-0.092399</td>\n",
       "      <td>0.110471</td>\n",
       "      <td>0.290476</td>\n",
       "      <td>0.202644</td>\n",
       "      <td>0.132062</td>\n",
       "      <td>0.149917</td>\n",
       "      <td>-0.394563</td>\n",
       "      <td>0.096489</td>\n",
       "      <td>0.197123</td>\n",
       "      <td>0.159405</td>\n",
       "      <td>0.362210</td>\n",
       "      <td>0.120795</td>\n",
       "      <td>0.227075</td>\n",
       "    </tr>\n",
       "    <tr>\n",
       "      <th>sex</th>\n",
       "      <td>-0.092399</td>\n",
       "      <td>1.000000</td>\n",
       "      <td>0.008908</td>\n",
       "      <td>-0.066340</td>\n",
       "      <td>-0.198089</td>\n",
       "      <td>0.038850</td>\n",
       "      <td>0.033897</td>\n",
       "      <td>-0.060496</td>\n",
       "      <td>0.143581</td>\n",
       "      <td>0.106567</td>\n",
       "      <td>0.033345</td>\n",
       "      <td>0.091925</td>\n",
       "      <td>0.370556</td>\n",
       "      <td>0.278467</td>\n",
       "    </tr>\n",
       "    <tr>\n",
       "      <th>cp</th>\n",
       "      <td>0.110471</td>\n",
       "      <td>0.008908</td>\n",
       "      <td>1.000000</td>\n",
       "      <td>-0.036980</td>\n",
       "      <td>0.072088</td>\n",
       "      <td>-0.057663</td>\n",
       "      <td>0.063905</td>\n",
       "      <td>-0.339308</td>\n",
       "      <td>0.377525</td>\n",
       "      <td>0.203244</td>\n",
       "      <td>0.151079</td>\n",
       "      <td>0.235644</td>\n",
       "      <td>0.266275</td>\n",
       "      <td>0.408945</td>\n",
       "    </tr>\n",
       "    <tr>\n",
       "      <th>trestbps</th>\n",
       "      <td>0.290476</td>\n",
       "      <td>-0.066340</td>\n",
       "      <td>-0.036980</td>\n",
       "      <td>1.000000</td>\n",
       "      <td>0.131536</td>\n",
       "      <td>0.180860</td>\n",
       "      <td>0.149242</td>\n",
       "      <td>-0.049108</td>\n",
       "      <td>0.066691</td>\n",
       "      <td>0.191243</td>\n",
       "      <td>0.121172</td>\n",
       "      <td>0.097954</td>\n",
       "      <td>0.130612</td>\n",
       "      <td>0.153490</td>\n",
       "    </tr>\n",
       "    <tr>\n",
       "      <th>chol</th>\n",
       "      <td>0.202644</td>\n",
       "      <td>-0.198089</td>\n",
       "      <td>0.072088</td>\n",
       "      <td>0.131536</td>\n",
       "      <td>1.000000</td>\n",
       "      <td>0.012708</td>\n",
       "      <td>0.165046</td>\n",
       "      <td>-0.000075</td>\n",
       "      <td>0.059339</td>\n",
       "      <td>0.038596</td>\n",
       "      <td>-0.009215</td>\n",
       "      <td>0.115945</td>\n",
       "      <td>0.023441</td>\n",
       "      <td>0.080285</td>\n",
       "    </tr>\n",
       "    <tr>\n",
       "      <th>fbs</th>\n",
       "      <td>0.132062</td>\n",
       "      <td>0.038850</td>\n",
       "      <td>-0.057663</td>\n",
       "      <td>0.180860</td>\n",
       "      <td>0.012708</td>\n",
       "      <td>1.000000</td>\n",
       "      <td>0.068831</td>\n",
       "      <td>-0.007842</td>\n",
       "      <td>-0.000893</td>\n",
       "      <td>0.008311</td>\n",
       "      <td>0.047819</td>\n",
       "      <td>0.152086</td>\n",
       "      <td>0.051038</td>\n",
       "      <td>0.003167</td>\n",
       "    </tr>\n",
       "    <tr>\n",
       "      <th>restecg</th>\n",
       "      <td>0.149917</td>\n",
       "      <td>0.033897</td>\n",
       "      <td>0.063905</td>\n",
       "      <td>0.149242</td>\n",
       "      <td>0.165046</td>\n",
       "      <td>0.068831</td>\n",
       "      <td>1.000000</td>\n",
       "      <td>-0.072290</td>\n",
       "      <td>0.081874</td>\n",
       "      <td>0.113726</td>\n",
       "      <td>0.135141</td>\n",
       "      <td>0.129021</td>\n",
       "      <td>0.013612</td>\n",
       "      <td>0.166343</td>\n",
       "    </tr>\n",
       "    <tr>\n",
       "      <th>thalach</th>\n",
       "      <td>-0.394563</td>\n",
       "      <td>-0.060496</td>\n",
       "      <td>-0.339308</td>\n",
       "      <td>-0.049108</td>\n",
       "      <td>-0.000075</td>\n",
       "      <td>-0.007842</td>\n",
       "      <td>-0.072290</td>\n",
       "      <td>1.000000</td>\n",
       "      <td>-0.384368</td>\n",
       "      <td>-0.347640</td>\n",
       "      <td>-0.389307</td>\n",
       "      <td>-0.268727</td>\n",
       "      <td>-0.258386</td>\n",
       "      <td>-0.423817</td>\n",
       "    </tr>\n",
       "    <tr>\n",
       "      <th>exang</th>\n",
       "      <td>0.096489</td>\n",
       "      <td>0.143581</td>\n",
       "      <td>0.377525</td>\n",
       "      <td>0.066691</td>\n",
       "      <td>0.059339</td>\n",
       "      <td>-0.000893</td>\n",
       "      <td>0.081874</td>\n",
       "      <td>-0.384368</td>\n",
       "      <td>1.000000</td>\n",
       "      <td>0.289310</td>\n",
       "      <td>0.250572</td>\n",
       "      <td>0.148232</td>\n",
       "      <td>0.323268</td>\n",
       "      <td>0.421355</td>\n",
       "    </tr>\n",
       "    <tr>\n",
       "      <th>oldpeak</th>\n",
       "      <td>0.197123</td>\n",
       "      <td>0.106567</td>\n",
       "      <td>0.203244</td>\n",
       "      <td>0.191243</td>\n",
       "      <td>0.038596</td>\n",
       "      <td>0.008311</td>\n",
       "      <td>0.113726</td>\n",
       "      <td>-0.347640</td>\n",
       "      <td>0.289310</td>\n",
       "      <td>1.000000</td>\n",
       "      <td>0.579037</td>\n",
       "      <td>0.294452</td>\n",
       "      <td>0.336809</td>\n",
       "      <td>0.424052</td>\n",
       "    </tr>\n",
       "    <tr>\n",
       "      <th>slope</th>\n",
       "      <td>0.159405</td>\n",
       "      <td>0.033345</td>\n",
       "      <td>0.151079</td>\n",
       "      <td>0.121172</td>\n",
       "      <td>-0.009215</td>\n",
       "      <td>0.047819</td>\n",
       "      <td>0.135141</td>\n",
       "      <td>-0.389307</td>\n",
       "      <td>0.250572</td>\n",
       "      <td>0.579037</td>\n",
       "      <td>1.000000</td>\n",
       "      <td>0.109761</td>\n",
       "      <td>0.260096</td>\n",
       "      <td>0.333049</td>\n",
       "    </tr>\n",
       "    <tr>\n",
       "      <th>ca</th>\n",
       "      <td>0.362210</td>\n",
       "      <td>0.091925</td>\n",
       "      <td>0.235644</td>\n",
       "      <td>0.097954</td>\n",
       "      <td>0.115945</td>\n",
       "      <td>0.152086</td>\n",
       "      <td>0.129021</td>\n",
       "      <td>-0.268727</td>\n",
       "      <td>0.148232</td>\n",
       "      <td>0.294452</td>\n",
       "      <td>0.109761</td>\n",
       "      <td>1.000000</td>\n",
       "      <td>0.248825</td>\n",
       "      <td>0.463189</td>\n",
       "    </tr>\n",
       "    <tr>\n",
       "      <th>thal</th>\n",
       "      <td>0.120795</td>\n",
       "      <td>0.370556</td>\n",
       "      <td>0.266275</td>\n",
       "      <td>0.130612</td>\n",
       "      <td>0.023441</td>\n",
       "      <td>0.051038</td>\n",
       "      <td>0.013612</td>\n",
       "      <td>-0.258386</td>\n",
       "      <td>0.323268</td>\n",
       "      <td>0.336809</td>\n",
       "      <td>0.260096</td>\n",
       "      <td>0.248825</td>\n",
       "      <td>1.000000</td>\n",
       "      <td>0.520516</td>\n",
       "    </tr>\n",
       "    <tr>\n",
       "      <th>condition</th>\n",
       "      <td>0.227075</td>\n",
       "      <td>0.278467</td>\n",
       "      <td>0.408945</td>\n",
       "      <td>0.153490</td>\n",
       "      <td>0.080285</td>\n",
       "      <td>0.003167</td>\n",
       "      <td>0.166343</td>\n",
       "      <td>-0.423817</td>\n",
       "      <td>0.421355</td>\n",
       "      <td>0.424052</td>\n",
       "      <td>0.333049</td>\n",
       "      <td>0.463189</td>\n",
       "      <td>0.520516</td>\n",
       "      <td>1.000000</td>\n",
       "    </tr>\n",
       "  </tbody>\n",
       "</table>\n",
       "</div>"
      ],
      "text/plain": [
       "                age       sex        cp  trestbps      chol       fbs  \\\n",
       "age        1.000000 -0.092399  0.110471  0.290476  0.202644  0.132062   \n",
       "sex       -0.092399  1.000000  0.008908 -0.066340 -0.198089  0.038850   \n",
       "cp         0.110471  0.008908  1.000000 -0.036980  0.072088 -0.057663   \n",
       "trestbps   0.290476 -0.066340 -0.036980  1.000000  0.131536  0.180860   \n",
       "chol       0.202644 -0.198089  0.072088  0.131536  1.000000  0.012708   \n",
       "fbs        0.132062  0.038850 -0.057663  0.180860  0.012708  1.000000   \n",
       "restecg    0.149917  0.033897  0.063905  0.149242  0.165046  0.068831   \n",
       "thalach   -0.394563 -0.060496 -0.339308 -0.049108 -0.000075 -0.007842   \n",
       "exang      0.096489  0.143581  0.377525  0.066691  0.059339 -0.000893   \n",
       "oldpeak    0.197123  0.106567  0.203244  0.191243  0.038596  0.008311   \n",
       "slope      0.159405  0.033345  0.151079  0.121172 -0.009215  0.047819   \n",
       "ca         0.362210  0.091925  0.235644  0.097954  0.115945  0.152086   \n",
       "thal       0.120795  0.370556  0.266275  0.130612  0.023441  0.051038   \n",
       "condition  0.227075  0.278467  0.408945  0.153490  0.080285  0.003167   \n",
       "\n",
       "            restecg   thalach     exang   oldpeak     slope        ca  \\\n",
       "age        0.149917 -0.394563  0.096489  0.197123  0.159405  0.362210   \n",
       "sex        0.033897 -0.060496  0.143581  0.106567  0.033345  0.091925   \n",
       "cp         0.063905 -0.339308  0.377525  0.203244  0.151079  0.235644   \n",
       "trestbps   0.149242 -0.049108  0.066691  0.191243  0.121172  0.097954   \n",
       "chol       0.165046 -0.000075  0.059339  0.038596 -0.009215  0.115945   \n",
       "fbs        0.068831 -0.007842 -0.000893  0.008311  0.047819  0.152086   \n",
       "restecg    1.000000 -0.072290  0.081874  0.113726  0.135141  0.129021   \n",
       "thalach   -0.072290  1.000000 -0.384368 -0.347640 -0.389307 -0.268727   \n",
       "exang      0.081874 -0.384368  1.000000  0.289310  0.250572  0.148232   \n",
       "oldpeak    0.113726 -0.347640  0.289310  1.000000  0.579037  0.294452   \n",
       "slope      0.135141 -0.389307  0.250572  0.579037  1.000000  0.109761   \n",
       "ca         0.129021 -0.268727  0.148232  0.294452  0.109761  1.000000   \n",
       "thal       0.013612 -0.258386  0.323268  0.336809  0.260096  0.248825   \n",
       "condition  0.166343 -0.423817  0.421355  0.424052  0.333049  0.463189   \n",
       "\n",
       "               thal  condition  \n",
       "age        0.120795   0.227075  \n",
       "sex        0.370556   0.278467  \n",
       "cp         0.266275   0.408945  \n",
       "trestbps   0.130612   0.153490  \n",
       "chol       0.023441   0.080285  \n",
       "fbs        0.051038   0.003167  \n",
       "restecg    0.013612   0.166343  \n",
       "thalach   -0.258386  -0.423817  \n",
       "exang      0.323268   0.421355  \n",
       "oldpeak    0.336809   0.424052  \n",
       "slope      0.260096   0.333049  \n",
       "ca         0.248825   0.463189  \n",
       "thal       1.000000   0.520516  \n",
       "condition  0.520516   1.000000  "
      ]
     },
     "execution_count": 17,
     "metadata": {},
     "output_type": "execute_result"
    }
   ],
   "source": [
    "#Make a correlation matrix\n",
    "df.corr()"
   ]
  },
  {
   "cell_type": "code",
   "execution_count": 18,
   "id": "70a28361",
   "metadata": {},
   "outputs": [
    {
     "data": {
      "image/png": "[encoded data removed]",
      "text/plain": [
       "<Figure size 1080x432 with 2 Axes>"
      ]
     },
     "metadata": {
      "needs_background": "light"
     },
     "output_type": "display_data"
    }
   ],
   "source": [
    "#Let's make our correlation matrix a more prettier\n",
    "corr_matrix=df.corr()\n",
    "fig , ax = plt.subplots(figsize=(15,6))\n",
    "ax=sns.heatmap(corr_matrix,\n",
    "              annot=True,\n",
    "              linewidths=0.5,\n",
    "              fmt=\".2f\",\n",
    "              cmap=\"YlGnBu\");"
   ]
  },
  {
   "cell_type": "markdown",
   "id": "016b13eb",
   "metadata": {},
   "source": [
    "## 5.Modelling"
   ]
  },
  {
   "cell_type": "code",
   "execution_count": 3,
   "id": "ae1625f4",
   "metadata": {},
   "outputs": [],
   "source": [
    "#Split data into x & y\n",
    "x=df.drop(\"condition\",axis=1)\n",
    "y=df[\"condition\"]"
   ]
  },
  {
   "cell_type": "code",
   "execution_count": 4,
   "id": "ad800dc7",
   "metadata": {},
   "outputs": [],
   "source": [
    "#Split data into train and test set\n",
    "np.random.seed(42)\n",
    "\n",
    "x_train,x_test,y_train,y_test=train_test_split(x,\n",
    "                                              y,\n",
    "                                              test_size=0.2)"
   ]
  },
  {
   "cell_type": "markdown",
   "id": "bc0cf9de",
   "metadata": {},
   "source": [
    "Now we got our data split into training and test set,it's time to build a machine learning model\n",
    "\n",
    "We'll train (find the patterns) it on the training sets.\n",
    "\n",
    "We'll test (use the patterns) it on our test set.\n",
    "\n",
    "We're going to try 3 different models\n",
    "1. Logistic Regression\n",
    "2. K-Nearest Neighbors Classifier\n",
    "3. Random Forest Classifier"
   ]
  },
  {
   "cell_type": "code",
   "execution_count": 21,
   "id": "64616327",
   "metadata": {},
   "outputs": [],
   "source": [
    "#Put the models in the dictionary\n",
    "models = {\"Logistic Regression\":LogisticRegression(),\n",
    "         \"KNN\":KNeighborsClassifier(),\n",
    "         \"Random Forest\":RandomForestClassifier()}\n",
    "\n",
    "#Create a functon to fit and score models\n",
    "def fit_and_score(models,x_train,x_test,y_train,y_test):\n",
    "    \"\"\"\n",
    "    Fits and evaluates given machine learning models.\n",
    "    models : a dict of different scikit-learn machine learning models\n",
    "    x_train :training data(no labels)\n",
    "    x_test ; testing data (no labels)\n",
    "    y_train : training labels\n",
    "    y_test : test labels\n",
    "    \n",
    "    \"\"\"\n",
    "    #set a random seed\n",
    "    np.random.seed(42)\n",
    "    #make a dict to keep model scores\n",
    "    model_scores={}\n",
    "    #loop through models \n",
    "    for name,model in models.items():\n",
    "        #fit the model\n",
    "        model.fit(x_train,y_train)\n",
    "        #evaluate the model and apped its score to model_scores\n",
    "        model_scores[name]=model.score(x_test,y_test)\n",
    "    return model_scores"
   ]
  },
  {
   "cell_type": "code",
   "execution_count": 22,
   "id": "846ec057",
   "metadata": {},
   "outputs": [
    {
     "name": "stderr",
     "output_type": "stream",
     "text": [
      "/home/sai_sharan/Desktop/heart-disease-project/env/lib/python3.9/site-packages/sklearn/linear_model/_logistic.py:814: ConvergenceWarning: lbfgs failed to converge (status=1):\n",
      "STOP: TOTAL NO. of ITERATIONS REACHED LIMIT.\n",
      "\n",
      "Increase the number of iterations (max_iter) or scale the data as shown in:\n",
      "    https://scikit-learn.org/stable/modules/preprocessing.html\n",
      "Please also refer to the documentation for alternative solver options:\n",
      "    https://scikit-learn.org/stable/modules/linear_model.html#logistic-regression\n",
      "  n_iter_i = _check_optimize_result(\n"
     ]
    },
    {
     "data": {
      "text/plain": [
       "{'Logistic Regression': 0.7333333333333333,\n",
       " 'KNN': 0.5666666666666667,\n",
       " 'Random Forest': 0.7}"
      ]
     },
     "execution_count": 22,
     "metadata": {},
     "output_type": "execute_result"
    }
   ],
   "source": [
    "model_scores = fit_and_score(models=models,\n",
    "                            x_train=x_train,\n",
    "                            x_test=x_test,\n",
    "                            y_train=y_train,\n",
    "                            y_test=y_test)\n",
    "\n",
    "model_scores"
   ]
  },
  {
   "cell_type": "markdown",
   "id": "00bbea73",
   "metadata": {},
   "source": [
    "## Model Comparision"
   ]
  },
  {
   "cell_type": "code",
   "execution_count": 23,
   "id": "9aec58fa",
   "metadata": {},
   "outputs": [
    {
     "data": {
      "image/png": "[encoded data removed]",
      "text/plain": [
       "<Figure size 432x288 with 1 Axes>"
      ]
     },
     "metadata": {
      "needs_background": "light"
     },
     "output_type": "display_data"
    }
   ],
   "source": [
    "model_compare = pd.DataFrame(model_scores,index=[\"accuracy\"])\n",
    "model_compare.T.plot.bar();"
   ]
  },
  {
   "cell_type": "markdown",
   "id": "b8f1985a",
   "metadata": {},
   "source": [
    "Now we've got a baseline model... and we know a model's first predictions aren't always what we should baseed our next steps off.\n",
    "what should we do?\n",
    "\n",
    "Let's look at the folowing:\n",
    "* Hyperparameter tunning\n",
    "* Feature importance\n",
    "* Confusion matrix\n",
    "* Cross-validation\n",
    "* Precision\n",
    "* Recall\n",
    "* F1 score\n",
    "* Classification report\n",
    "* ROC Curve\n",
    "* Area under curve (AUC)"
   ]
  },
  {
   "cell_type": "markdown",
   "id": "8f5253da",
   "metadata": {},
   "source": [
    "\n",
    "## Hyperparameter tuning"
   ]
  },
  {
   "cell_type": "code",
   "execution_count": 24,
   "id": "4659ee1e",
   "metadata": {},
   "outputs": [],
   "source": [
    "#Let's tune KNN\n",
    "\n",
    "train_scores = []\n",
    "test_scores = []\n",
    "        \n",
    "#Create a list of different values for n_neighbors\n",
    "neighbors=range(1,21)\n",
    "\n",
    "#Setup KNN instance\n",
    "knn = KNeighborsClassifier()\n",
    "\n",
    "#loop through different n_neighbors\n",
    "for i in neighbors:\n",
    "    knn.set_params(n_neighbors=i)\n",
    "    \n",
    "    #Fit the algorithm\n",
    "    knn.fit(x_train,y_train)\n",
    "    \n",
    "    #Update the training scores list\n",
    "    train_scores.append(knn.score(x_train,y_train))\n",
    "    \n",
    "    #Update the test scores\n",
    "    test_scores.append(knn.score(x_test,y_test))"
   ]
  },
  {
   "cell_type": "code",
   "execution_count": 25,
   "id": "939fd848",
   "metadata": {},
   "outputs": [
    {
     "data": {
      "text/plain": [
       "[1.0,\n",
       " 0.7974683544303798,\n",
       " 0.8016877637130801,\n",
       " 0.7890295358649789,\n",
       " 0.7763713080168776,\n",
       " 0.7679324894514767,\n",
       " 0.7679324894514767,\n",
       " 0.7637130801687764,\n",
       " 0.7383966244725738,\n",
       " 0.7257383966244726,\n",
       " 0.7257383966244726,\n",
       " 0.7257383966244726,\n",
       " 0.7257383966244726,\n",
       " 0.729957805907173,\n",
       " 0.7383966244725738,\n",
       " 0.7215189873417721,\n",
       " 0.7383966244725738,\n",
       " 0.7426160337552743,\n",
       " 0.7552742616033755,\n",
       " 0.7510548523206751]"
      ]
     },
     "execution_count": 25,
     "metadata": {},
     "output_type": "execute_result"
    }
   ],
   "source": [
    "train_scores"
   ]
  },
  {
   "cell_type": "code",
   "execution_count": 26,
   "id": "386ab38a",
   "metadata": {},
   "outputs": [
    {
     "name": "stdout",
     "output_type": "stream",
     "text": [
      "Maximum KNN score on the test data :61.666667%\n"
     ]
    },
    {
     "data": {
      "image/png": "[encoded data removed]",
      "text/plain": [
       "<Figure size 432x288 with 1 Axes>"
      ]
     },
     "metadata": {
      "needs_background": "light"
     },
     "output_type": "display_data"
    }
   ],
   "source": [
    "plt.plot(neighbors,train_scores,label=\"Train score\")\n",
    "plt.plot(neighbors,test_scores,label=\"Test score\")\n",
    "plt.xlabel(\"Number of neighbors\")\n",
    "plt.ylabel(\"Model score\")\n",
    "plt.legend();\n",
    "\n",
    "print(f\"Maximum KNN score on the test data :{max(test_scores)*100.:2f}%\")"
   ]
  },
  {
   "cell_type": "markdown",
   "id": "83674230",
   "metadata": {},
   "source": [
    "## Hyperparameter tuning with RandomizedSearchCV\n",
    "\n",
    "We're going to tune\n",
    "* LogisticRegression\n",
    "* RandomForestRegressor\n",
    "  \n",
    "....using RandomizedSearchCV"
   ]
  },
  {
   "cell_type": "code",
   "execution_count": 27,
   "id": "3df0e922",
   "metadata": {},
   "outputs": [],
   "source": [
    "#Create a Hyperparameter grid for LogisticRegression\n",
    "log_reg_grid={\"C\":np.logspace(-4,4,20),\n",
    "             \"solver\":[\"liblinear\"]}\n",
    "\n",
    "#Create a hyperparameter grid for RandomForestClassifier\n",
    "rf_grid={\"n_estimators\":np.arange(10,1000,50),\n",
    "        \"max_depth\":[None,3,5,10],\n",
    "        \"min_samples_split\":np.arange(2,20,2),\n",
    "        \"min_samples_leaf\":np.arange(1,20,2)}"
   ]
  },
  {
   "cell_type": "markdown",
   "id": "4d0cb71a",
   "metadata": {},
   "source": [
    "Now we've got hyperparameter grid for each of our model, lets tune them with RandomizedSearchCV"
   ]
  },
  {
   "cell_type": "code",
   "execution_count": 28,
   "id": "e181f3a9",
   "metadata": {},
   "outputs": [
    {
     "name": "stdout",
     "output_type": "stream",
     "text": [
      "Fitting 5 folds for each of 20 candidates, totalling 100 fits\n"
     ]
    },
    {
     "data": {
      "text/plain": [
       "RandomizedSearchCV(cv=5, estimator=LogisticRegression(), n_iter=20,\n",
       "                   param_distributions={'C': array([1.00000000e-04, 2.63665090e-04, 6.95192796e-04, 1.83298071e-03,\n",
       "       4.83293024e-03, 1.27427499e-02, 3.35981829e-02, 8.85866790e-02,\n",
       "       2.33572147e-01, 6.15848211e-01, 1.62377674e+00, 4.28133240e+00,\n",
       "       1.12883789e+01, 2.97635144e+01, 7.84759970e+01, 2.06913808e+02,\n",
       "       5.45559478e+02, 1.43844989e+03, 3.79269019e+03, 1.00000000e+04]),\n",
       "                                        'solver': ['liblinear']},\n",
       "                   verbose=True)"
      ]
     },
     "execution_count": 28,
     "metadata": {},
     "output_type": "execute_result"
    }
   ],
   "source": [
    "#Tune Logistic REgression\n",
    "\n",
    "np.random.seed(42)\n",
    "\n",
    "#Setup random hyperparameter search for LogisticRegression\n",
    "rs_log_reg=RandomizedSearchCV(LogisticRegression(),\n",
    "                           param_distributions=log_reg_grid,\n",
    "                           cv=5,\n",
    "                           n_iter=20,\n",
    "                           verbose=True)\n",
    "\n",
    "#Fit random hyperparameter search model for LogisticRegression\n",
    "rs_log_reg.fit(x_train,y_train)"
   ]
  },
  {
   "cell_type": "code",
   "execution_count": 29,
   "id": "72434535",
   "metadata": {},
   "outputs": [
    {
     "data": {
      "text/plain": [
       "{'solver': 'liblinear', 'C': 0.08858667904100823}"
      ]
     },
     "execution_count": 29,
     "metadata": {},
     "output_type": "execute_result"
    }
   ],
   "source": [
    "rs_log_reg.best_params_"
   ]
  },
  {
   "cell_type": "code",
   "execution_count": 30,
   "id": "d65717d3",
   "metadata": {},
   "outputs": [
    {
     "data": {
      "text/plain": [
       "0.7333333333333333"
      ]
     },
     "execution_count": 30,
     "metadata": {},
     "output_type": "execute_result"
    }
   ],
   "source": [
    "rs_log_reg.score(x_test,y_test)"
   ]
  },
  {
   "cell_type": "markdown",
   "id": "da69edd1",
   "metadata": {},
   "source": [
    "Now we've tuned LogisticRegression ,Let's do the same for RandomForestClassifier"
   ]
  },
  {
   "cell_type": "code",
   "execution_count": 31,
   "id": "4cc53448",
   "metadata": {},
   "outputs": [
    {
     "name": "stdout",
     "output_type": "stream",
     "text": [
      "Fitting 5 folds for each of 20 candidates, totalling 100 fits\n"
     ]
    },
    {
     "data": {
      "text/plain": [
       "RandomizedSearchCV(cv=5, estimator=RandomForestClassifier(), n_iter=20,\n",
       "                   param_distributions={'max_depth': [None, 3, 5, 10],\n",
       "                                        'min_samples_leaf': array([ 1,  3,  5,  7,  9, 11, 13, 15, 17, 19]),\n",
       "                                        'min_samples_split': array([ 2,  4,  6,  8, 10, 12, 14, 16, 18]),\n",
       "                                        'n_estimators': array([ 10,  60, 110, 160, 210, 260, 310, 360, 410, 460, 510, 560, 610,\n",
       "       660, 710, 760, 810, 860, 910, 960])},\n",
       "                   verbose=True)"
      ]
     },
     "execution_count": 31,
     "metadata": {},
     "output_type": "execute_result"
    }
   ],
   "source": [
    "#Setup random seed\n",
    "np.random.seed(42)\n",
    "\n",
    "#Setup random hyperparameter search for RandomForestClassifier\n",
    "rs_rf=RandomizedSearchCV(RandomForestClassifier(),\n",
    "                        param_distributions=rf_grid,\n",
    "                        cv=5,\n",
    "                        n_iter=20,\n",
    "                        verbose=True)\n",
    "\n",
    "#Fit random hyperparameter search model for RandomForestClassifier \n",
    "rs_rf.fit(x_train,y_train)"
   ]
  },
  {
   "cell_type": "code",
   "execution_count": 32,
   "id": "f1b0d817",
   "metadata": {},
   "outputs": [
    {
     "data": {
      "text/plain": [
       "{'n_estimators': 610,\n",
       " 'min_samples_split': 18,\n",
       " 'min_samples_leaf': 1,\n",
       " 'max_depth': 5}"
      ]
     },
     "execution_count": 32,
     "metadata": {},
     "output_type": "execute_result"
    }
   ],
   "source": [
    "#Let's find the best parameters for RandomisedSearchCV models\n",
    "rs_rf.best_params_"
   ]
  },
  {
   "cell_type": "code",
   "execution_count": 33,
   "id": "25f75f06",
   "metadata": {},
   "outputs": [
    {
     "data": {
      "text/plain": [
       "0.7333333333333333"
      ]
     },
     "execution_count": 33,
     "metadata": {},
     "output_type": "execute_result"
    }
   ],
   "source": [
    "#Let's find the score for RandomizedSearchCV model\n",
    "rs_rf.score(x_test,y_test)"
   ]
  },
  {
   "cell_type": "markdown",
   "id": "15138c51",
   "metadata": {},
   "source": [
    "## Let's tune the Hyperparameters with GridSearchCV"
   ]
  },
  {
   "cell_type": "markdown",
   "id": "765f01f7",
   "metadata": {},
   "source": [
    "Since both our models provide same results(accuracy) so far, Let's try improve both of our models with GridSearchCV"
   ]
  },
  {
   "cell_type": "code",
   "execution_count": 34,
   "id": "22db77b1",
   "metadata": {},
   "outputs": [
    {
     "name": "stdout",
     "output_type": "stream",
     "text": [
      "Fitting 5 folds for each of 40 candidates, totalling 200 fits\n"
     ]
    },
    {
     "data": {
      "text/plain": [
       "GridSearchCV(cv=5, estimator=LogisticRegression(),\n",
       "             param_grid={'C': array([1.00000000e-04, 1.60371874e-04, 2.57191381e-04, 4.12462638e-04,\n",
       "       6.61474064e-04, 1.06081836e-03, 1.70125428e-03, 2.72833338e-03,\n",
       "       4.37547938e-03, 7.01703829e-03, 1.12533558e-02, 1.80472177e-02,\n",
       "       2.89426612e-02, 4.64158883e-02, 7.44380301e-02, 1.19377664e-01,\n",
       "       1.91448198e-01, 3.07029063e-01, 4.923882...652287e-01,\n",
       "       1.26638017e+00, 2.03091762e+00, 3.25702066e+00, 5.22334507e+00,\n",
       "       8.37677640e+00, 1.34339933e+01, 2.15443469e+01, 3.45510729e+01,\n",
       "       5.54102033e+01, 8.88623816e+01, 1.42510267e+02, 2.28546386e+02,\n",
       "       3.66524124e+02, 5.87801607e+02, 9.42668455e+02, 1.51177507e+03,\n",
       "       2.42446202e+03, 3.88815518e+03, 6.23550734e+03, 1.00000000e+04]),\n",
       "                         'solver': ['liblinear']},\n",
       "             verbose=True)"
      ]
     },
     "execution_count": 34,
     "metadata": {},
     "output_type": "execute_result"
    }
   ],
   "source": [
    "#Different hyperparameters for our LogisticRegresion model\n",
    "log_reg_grid={\"C\":np.logspace(-4,4,40),\n",
    "             \"solver\":[\"liblinear\"]}\n",
    "\n",
    "#Setup grid hyperparameter search for LogisticRegression\n",
    "gs_log_reg=GridSearchCV(LogisticRegression(),\n",
    "                       param_grid=log_reg_grid,\n",
    "                       cv=5,\n",
    "                       verbose=True)\n",
    "\n",
    "#Fit Grid hyperparameter search model\n",
    "gs_log_reg.fit(x_train,y_train)"
   ]
  },
  {
   "cell_type": "code",
   "execution_count": 35,
   "id": "71bcfe44",
   "metadata": {},
   "outputs": [
    {
     "data": {
      "text/plain": [
       "0.7333333333333333"
      ]
     },
     "execution_count": 35,
     "metadata": {},
     "output_type": "execute_result"
    }
   ],
   "source": [
    "gs_log_reg.score(x_test,y_test)"
   ]
  },
  {
   "cell_type": "code",
   "execution_count": 36,
   "id": "ae8f7516",
   "metadata": {},
   "outputs": [
    {
     "name": "stdout",
     "output_type": "stream",
     "text": [
      "Fitting 3 folds for each of 1 candidates, totalling 3 fits\n"
     ]
    },
    {
     "data": {
      "text/plain": [
       "GridSearchCV(cv=3, estimator=RandomForestClassifier(n_jobs=-1, random_state=42),\n",
       "             param_grid={'max_depth': [3], 'min_samples_leaf': [5],\n",
       "                         'min_samples_split': [10], 'n_estimators': [61]},\n",
       "             verbose=True)"
      ]
     },
     "execution_count": 36,
     "metadata": {},
     "output_type": "execute_result"
    }
   ],
   "source": [
    "#Different hyperparameters for our RandomForestClassifier model\n",
    "rf_grid = {\"n_estimators\":[61],\n",
    "          \"max_depth\":[3],\n",
    "          \"min_samples_split\":[10],\n",
    "          \"min_samples_leaf\":[5]}\n",
    "\n",
    "#Setup Grid hyperparameter search for RandomForestClassifier\n",
    "gs_rf = GridSearchCV(RandomForestClassifier(n_jobs=-1,\n",
    "                                           random_state=42),\n",
    "                    param_grid=rf_grid,\n",
    "                    cv=3,\n",
    "                    verbose=True)\n",
    "\n",
    "#Fit Grid hyperparameter search model\n",
    "gs_rf.fit(x_train,y_train)"
   ]
  },
  {
   "cell_type": "code",
   "execution_count": 37,
   "id": "e6a9070e",
   "metadata": {},
   "outputs": [
    {
     "data": {
      "text/plain": [
       "0.8"
      ]
     },
     "execution_count": 37,
     "metadata": {},
     "output_type": "execute_result"
    }
   ],
   "source": [
    "gs_rf.score(x_test,y_test)"
   ]
  },
  {
   "cell_type": "code",
   "execution_count": 38,
   "id": "e1fb5a88",
   "metadata": {},
   "outputs": [
    {
     "data": {
      "text/plain": [
       "{'max_depth': 3,\n",
       " 'min_samples_leaf': 5,\n",
       " 'min_samples_split': 10,\n",
       " 'n_estimators': 61}"
      ]
     },
     "execution_count": 38,
     "metadata": {},
     "output_type": "execute_result"
    }
   ],
   "source": [
    "gs_rf.best_params_"
   ]
  },
  {
   "cell_type": "markdown",
   "id": "f6ba6bd7",
   "metadata": {},
   "source": [
    "### Since our RandomForestClassifier model has more accuracy than our LogisticRegression model ,We use RandomForestClassifier model hence forth"
   ]
  },
  {
   "cell_type": "markdown",
   "id": "e3830339",
   "metadata": {},
   "source": [
    "# Evaluating our tuned machine learning classfier beyond accuracy\n",
    "* ROC curve and AUC score\n",
    "* Confusion matrix \n",
    "* Classification report\n",
    "* Precision\n",
    "* Recall\n",
    "* F1 Score\n",
    "\n",
    "....and it would be great if cross-validation was used where possible\n",
    "\n",
    "To make comparisions and evaluate our trained model ,we need to first make predictions"
   ]
  },
  {
   "cell_type": "code",
   "execution_count": 39,
   "id": "27b62027",
   "metadata": {},
   "outputs": [],
   "source": [
    "#To make predictioins with tuned model\n",
    "y_preds=gs_rf.predict(x_test)"
   ]
  },
  {
   "cell_type": "code",
   "execution_count": 40,
   "id": "69ffcde8",
   "metadata": {},
   "outputs": [
    {
     "name": "stderr",
     "output_type": "stream",
     "text": [
      "/home/sai_sharan/Desktop/heart-disease-project/env/lib/python3.9/site-packages/sklearn/utils/deprecation.py:87: FutureWarning: Function plot_roc_curve is deprecated; Function :func:`plot_roc_curve` is deprecated in 1.0 and will be removed in 1.2. Use one of the class methods: :meth:`sklearn.metric.RocCurveDisplay.from_predictions` or :meth:`sklearn.metric.RocCurveDisplay.from_estimator`.\n",
      "  warnings.warn(msg, category=FutureWarning)\n"
     ]
    },
    {
     "data": {
      "image/png": "[encoded data removed]",
      "text/plain": [
       "<Figure size 432x288 with 1 Axes>"
      ]
     },
     "metadata": {
      "needs_background": "light"
     },
     "output_type": "display_data"
    }
   ],
   "source": [
    "#Plot ROC curve and caculate AUC metric\n",
    "plot_roc_curve(gs_rf,x_test,y_test);"
   ]
  },
  {
   "cell_type": "code",
   "execution_count": 41,
   "id": "b0192773",
   "metadata": {},
   "outputs": [
    {
     "name": "stdout",
     "output_type": "stream",
     "text": [
      "[[26  6]\n",
      " [ 6 22]]\n"
     ]
    }
   ],
   "source": [
    "#confusion matrix\n",
    "print(confusion_matrix(y_test,y_preds))"
   ]
  },
  {
   "cell_type": "code",
   "execution_count": 42,
   "id": "789aa503",
   "metadata": {},
   "outputs": [
    {
     "data": {
      "image/png": "[encoded data removed]",
      "text/plain": [
       "<Figure size 216x216 with 1 Axes>"
      ]
     },
     "metadata": {},
     "output_type": "display_data"
    }
   ],
   "source": [
    "sns.set(font_scale=1.5)\n",
    "\n",
    "def plot_conf_mat(y_test,Y_preds):\n",
    "    \"\"\"\n",
    "    Plot a nice looking confusion matrix using seaborn heatmap\n",
    "    \n",
    "    \"\"\"\n",
    "fig,ax=plt.subplots(figsize=(3,3))\n",
    "ax=sns.heatmap(confusion_matrix(y_test,y_preds),\n",
    "              annot=True,\n",
    "              cbar=False)\n",
    "\n",
    "plt.xlabel(\"True label\")\n",
    "plt.ylabel(\"Predicted label\")\n",
    "\n",
    "plot_conf_mat(y_test,y_preds)"
   ]
  },
  {
   "cell_type": "markdown",
   "id": "38865ed7",
   "metadata": {},
   "source": [
    "Now we've got a ROC curve,an AUC metric and a Confusion matrix,Let's get a classification report and a cross-validated precision,recall and F1 score"
   ]
  },
  {
   "cell_type": "code",
   "execution_count": 43,
   "id": "b58b9200",
   "metadata": {},
   "outputs": [
    {
     "name": "stdout",
     "output_type": "stream",
     "text": [
      "              precision    recall  f1-score   support\n",
      "\n",
      "           0       0.81      0.81      0.81        32\n",
      "           1       0.79      0.79      0.79        28\n",
      "\n",
      "    accuracy                           0.80        60\n",
      "   macro avg       0.80      0.80      0.80        60\n",
      "weighted avg       0.80      0.80      0.80        60\n",
      "\n"
     ]
    }
   ],
   "source": [
    "print(classification_report(y_test,y_preds))"
   ]
  },
  {
   "cell_type": "markdown",
   "id": "fff5875a",
   "metadata": {},
   "source": [
    "## Calculate evaluation metrics using cross-validation\n",
    "\n",
    "We're going to calculate precision,recall nd f1 score of our model using cross-validation and to do so we'll be using 'cross_val_score()'."
   ]
  },
  {
   "cell_type": "code",
   "execution_count": 44,
   "id": "4523e814",
   "metadata": {},
   "outputs": [
    {
     "data": {
      "text/plain": [
       "{'max_depth': 3,\n",
       " 'min_samples_leaf': 5,\n",
       " 'min_samples_split': 10,\n",
       " 'n_estimators': 61}"
      ]
     },
     "execution_count": 44,
     "metadata": {},
     "output_type": "execute_result"
    }
   ],
   "source": [
    "#Check best hyperparameters\n",
    "gs_rf.best_params_"
   ]
  },
  {
   "cell_type": "code",
   "execution_count": 45,
   "id": "e6238d42",
   "metadata": {},
   "outputs": [],
   "source": [
    "#Create a new classifier with best parameters\n",
    "clf = RandomForestClassifier(max_depth =3,\n",
    "                             min_samples_leaf=5,\n",
    "                             min_samples_split= 10,\n",
    "                             n_estimators=61)"
   ]
  },
  {
   "cell_type": "code",
   "execution_count": 46,
   "id": "c368f0e0",
   "metadata": {},
   "outputs": [
    {
     "data": {
      "text/plain": [
       "0.771412429378531"
      ]
     },
     "execution_count": 46,
     "metadata": {},
     "output_type": "execute_result"
    }
   ],
   "source": [
    "#Cross-validated accuracy\n",
    "cv_acc = cross_val_score(clf,\n",
    "                      x,\n",
    "                      y,\n",
    "                      cv=5,\n",
    "                      scoring='accuracy')\n",
    "cv_acc = np.mean(cv_acc)\n",
    "cv_acc"
   ]
  },
  {
   "cell_type": "code",
   "execution_count": 47,
   "id": "bc04d4cc",
   "metadata": {},
   "outputs": [
    {
     "data": {
      "text/plain": [
       "0.8253986972147349"
      ]
     },
     "execution_count": 47,
     "metadata": {},
     "output_type": "execute_result"
    }
   ],
   "source": [
    "#Cross validated Precision\n",
    "cv_precision = cross_val_score(clf,\n",
    "                      x,\n",
    "                      y,\n",
    "                      cv=5,\n",
    "                      scoring='precision')\n",
    "cv_precision = np.mean(cv_precision  )\n",
    "cv_precision"
   ]
  },
  {
   "cell_type": "code",
   "execution_count": 48,
   "id": "a9b2f22b",
   "metadata": {},
   "outputs": [
    {
     "data": {
      "text/plain": [
       "0.7412698412698412"
      ]
     },
     "execution_count": 48,
     "metadata": {},
     "output_type": "execute_result"
    }
   ],
   "source": [
    "#Cross validated Recall\n",
    "cv_recall = cross_val_score(clf,\n",
    "                      x,\n",
    "                      y,\n",
    "                      cv=5,\n",
    "                      scoring='recall')\n",
    "cv_recall = np.mean(cv_recall)\n",
    "cv_recall"
   ]
  },
  {
   "cell_type": "code",
   "execution_count": 49,
   "id": "61a7658c",
   "metadata": {},
   "outputs": [
    {
     "data": {
      "text/plain": [
       "0.7585318265237129"
      ]
     },
     "execution_count": 49,
     "metadata": {},
     "output_type": "execute_result"
    }
   ],
   "source": [
    "#Cross validated F1 score\n",
    "cv_f1 = cross_val_score(clf,\n",
    "                      x,\n",
    "                      y,\n",
    "                      cv=5,\n",
    "                      scoring='f1')\n",
    "cv_f1 = np.mean(cv_f1)\n",
    "cv_f1"
   ]
  },
  {
   "cell_type": "code",
   "execution_count": 50,
   "id": "f5d3ce04",
   "metadata": {},
   "outputs": [
    {
     "data": {
      "image/png": "[encoded data removed]",
      "text/plain": [
       "<Figure size 432x288 with 1 Axes>"
      ]
     },
     "metadata": {},
     "output_type": "display_data"
    }
   ],
   "source": [
    "#Visualise cross validation metrics\n",
    "cv_metrics = pd.DataFrame({\"Accuracy\": cv_acc,\n",
    "                         \"Precision\":cv_precision,\n",
    "                         \"Recall\":cv_recall,\n",
    "                         \"F1 Score\":cv_f1},\n",
    "                         index=[0])\n",
    "\n",
    "cv_metrics.T.plot.bar(title=\"Cross validated classification metrics\",\n",
    "                     legend =False);"
   ]
  },
  {
   "cell_type": "markdown",
   "id": "83ecfd94",
   "metadata": {},
   "source": [
    "## Feature importance\n",
    "\n",
    "Feature importance is another way of asking ,\"which features contributed most to the outcomes of the model and how did they contribute?\". \n",
    "\n",
    "Finding feature importance is different for each machine learning model.One way to find feature importance is by searching \"(MODEL NAME) Feature importance\"\n",
    "\n",
    "Let's find feature importance for our RandomForestClassifier model\n",
    "\n",
    "We find feature importance based on feature permutation because ,Permutation feature importance overcomes limitations of the impurity-based feature importance: they do not have a bias toward high-cardinality features and can be computed on a left-out test set.\n",
    "\n",
    "High-cardinality means the feature has many unique values,hence impurity based feature importance may be misleading in such cases."
   ]
  },
  {
   "cell_type": "code",
   "execution_count": 51,
   "id": "be56ef85",
   "metadata": {},
   "outputs": [
    {
     "name": "stdout",
     "output_type": "stream",
     "text": [
      "Elapsed time to compute the importances: 2.525 seconds\n"
     ]
    }
   ],
   "source": [
    "import time\n",
    "from sklearn.inspection import permutation_importance\n",
    "start_time = time.time()\n",
    "clf.fit(x_test,y_test)\n",
    "result = permutation_importance(clf,x_test,y_test,n_repeats=10,random_state=42,n_jobs=2)\n",
    "elapsed_time = time.time() - start_time\n",
    "print(f\"Elapsed time to compute the importances: {elapsed_time:.3f} seconds\")\n",
    "feature_names=list(x_train.columns.values)\n",
    "clf_importances = pd.Series(result.importances_mean,index=feature_names)"
   ]
  },
  {
   "cell_type": "code",
   "execution_count": 52,
   "id": "46a033da",
   "metadata": {},
   "outputs": [
    {
     "data": {
      "image/png": "[encoded data removed]",
      "text/plain": [
       "<Figure size 1080x360 with 1 Axes>"
      ]
     },
     "metadata": {},
     "output_type": "display_data"
    }
   ],
   "source": [
    "#Let's plot the importance of each feature in our dataset\n",
    "fig,ax=plt.subplots(figsize=(15,5))\n",
    "clf_importances.T.plot.bar(result.importances_std,ax=ax)\n",
    "plt.title(\"Feature importance by permutation on full model\")\n",
    "plt.ylabel(\"Mean accuracy decrease\")\n",
    "fig.tight_layout()\n",
    "plt.xticks(rotation=0);"
   ]
  },
  {
   "cell_type": "markdown",
   "id": "d6f2d2ce",
   "metadata": {},
   "source": [
    "#### Above figure shows us how much each feature in our dataset contibutes to the prediction of the result of our machine learning model some are in positives and some are in negatives. What we can do basically is try to improve the features that contribute more to the model's prediction (like cp and ca) while collect future datas and try to ignore those features that dosen't really help our model in predicting the result (like sex,restecg ) "
   ]
  },
  {
   "cell_type": "code",
   "execution_count": 53,
   "id": "4d1916ca",
   "metadata": {},
   "outputs": [
    {
     "data": {
      "text/plain": [
       "0.8"
      ]
     },
     "execution_count": 53,
     "metadata": {},
     "output_type": "execute_result"
    }
   ],
   "source": [
    "gs_rf.score(x_test,y_test)"
   ]
  },
  {
   "cell_type": "code",
   "execution_count": 201,
   "id": "9a9b45ec",
   "metadata": {},
   "outputs": [
    {
     "name": "stdout",
     "output_type": "stream",
     "text": [
      "Collecting package metadata (current_repodata.json): done\n",
      "Solving environment: done\n",
      "\n",
      "\n",
      "==> WARNING: A newer version of conda exists. <==\n",
      "  current version: 4.12.0\n",
      "  latest version: 4.13.0\n",
      "\n",
      "Please update conda by running\n",
      "\n",
      "    $ conda update -n base -c defaults conda\n",
      "\n",
      "\n",
      "\n",
      "## Package Plan ##\n",
      "\n",
      "  environment location: /home/sai_sharan/Desktop/heart-disease-project/env\n",
      "\n",
      "  added / updated specs:\n",
      "    - catboost\n",
      "\n",
      "\n",
      "The following packages will be downloaded:\n",
      "\n",
      "    package                    |            build\n",
      "    ---------------------------|-----------------\n",
      "    catboost-0.26.1            |   py39h06a4308_0        29.4 MB\n",
      "    certifi-2022.6.15          |   py39h06a4308_0         153 KB\n",
      "    openssl-1.1.1p             |       h5eee18b_0         2.5 MB\n",
      "    ------------------------------------------------------------\n",
      "                                           Total:        32.1 MB\n",
      "\n",
      "The following NEW packages will be INSTALLED:\n",
      "\n",
      "  catboost           pkgs/main/linux-64::catboost-0.26.1-py39h06a4308_0\n",
      "\n",
      "The following packages will be UPDATED:\n",
      "\n",
      "  certifi                        2022.5.18.1-py39h06a4308_0 --> 2022.6.15-py39h06a4308_0\n",
      "  openssl                                 1.1.1o-h7f8727e_0 --> 1.1.1p-h5eee18b_0\n",
      "\n",
      "\n",
      "\n",
      "Downloading and Extracting Packages\n",
      "catboost-0.26.1      | 29.4 MB   | ##################################### | 100% \n",
      "certifi-2022.6.15    | 153 KB    | ##################################### | 100% \n",
      "openssl-1.1.1p       | 2.5 MB    | ##################################### | 100% \n",
      "Preparing transaction: done\n",
      "Verifying transaction: done\n",
      "Executing transaction: done\n"
     ]
    }
   ],
   "source": [
    "#Since we didnt reach our expected accuracy in the evaluation stage,Let's try another model \n",
    "import sys\n",
    "!conda install --yes --prefix {sys.prefix} catboost"
   ]
  },
  {
   "cell_type": "code",
   "execution_count": 5,
   "id": "0f4457aa",
   "metadata": {},
   "outputs": [],
   "source": [
    "from catboost import CatBoostClassifier\n",
    "model = CatBoostClassifier(random_seed=42)"
   ]
  },
  {
   "cell_type": "code",
   "execution_count": 6,
   "id": "88143ac5",
   "metadata": {},
   "outputs": [
    {
     "name": "stdout",
     "output_type": "stream",
     "text": [
      "Learning rate set to 0.005571\n",
      "0:\tlearn: 0.6879741\ttotal: 134ms\tremaining: 2m 13s\n",
      "1:\tlearn: 0.6828540\ttotal: 140ms\tremaining: 1m 9s\n",
      "2:\tlearn: 0.6780608\ttotal: 147ms\tremaining: 49s\n",
      "3:\tlearn: 0.6740038\ttotal: 155ms\tremaining: 38.6s\n",
      "4:\tlearn: 0.6690714\ttotal: 160ms\tremaining: 31.8s\n",
      "5:\tlearn: 0.6651743\ttotal: 163ms\tremaining: 27s\n",
      "6:\tlearn: 0.6604451\ttotal: 166ms\tremaining: 23.6s\n",
      "7:\tlearn: 0.6561873\ttotal: 170ms\tremaining: 21.1s\n",
      "8:\tlearn: 0.6519018\ttotal: 175ms\tremaining: 19.3s\n",
      "9:\tlearn: 0.6479552\ttotal: 181ms\tremaining: 17.9s\n",
      "10:\tlearn: 0.6446314\ttotal: 186ms\tremaining: 16.7s\n",
      "11:\tlearn: 0.6401227\ttotal: 191ms\tremaining: 15.7s\n",
      "12:\tlearn: 0.6372407\ttotal: 194ms\tremaining: 14.8s\n",
      "13:\tlearn: 0.6347323\ttotal: 206ms\tremaining: 14.5s\n",
      "14:\tlearn: 0.6310704\ttotal: 212ms\tremaining: 13.9s\n",
      "15:\tlearn: 0.6279774\ttotal: 216ms\tremaining: 13.3s\n",
      "16:\tlearn: 0.6247037\ttotal: 219ms\tremaining: 12.7s\n",
      "17:\tlearn: 0.6203897\ttotal: 224ms\tremaining: 12.2s\n",
      "18:\tlearn: 0.6164687\ttotal: 227ms\tremaining: 11.7s\n",
      "19:\tlearn: 0.6125074\ttotal: 231ms\tremaining: 11.3s\n",
      "20:\tlearn: 0.6091005\ttotal: 235ms\tremaining: 11s\n",
      "21:\tlearn: 0.6053770\ttotal: 239ms\tremaining: 10.6s\n",
      "22:\tlearn: 0.6019906\ttotal: 242ms\tremaining: 10.3s\n",
      "23:\tlearn: 0.5992401\ttotal: 245ms\tremaining: 9.98s\n",
      "24:\tlearn: 0.5956507\ttotal: 248ms\tremaining: 9.68s\n",
      "25:\tlearn: 0.5919453\ttotal: 251ms\tremaining: 9.41s\n",
      "26:\tlearn: 0.5879825\ttotal: 255ms\tremaining: 9.17s\n",
      "27:\tlearn: 0.5847931\ttotal: 258ms\tremaining: 8.94s\n",
      "28:\tlearn: 0.5819875\ttotal: 260ms\tremaining: 8.7s\n",
      "29:\tlearn: 0.5783784\ttotal: 263ms\tremaining: 8.49s\n",
      "30:\tlearn: 0.5759422\ttotal: 265ms\tremaining: 8.29s\n",
      "31:\tlearn: 0.5726096\ttotal: 267ms\tremaining: 8.09s\n",
      "32:\tlearn: 0.5695392\ttotal: 270ms\tremaining: 7.91s\n",
      "33:\tlearn: 0.5666355\ttotal: 272ms\tremaining: 7.74s\n",
      "34:\tlearn: 0.5633678\ttotal: 275ms\tremaining: 7.58s\n",
      "35:\tlearn: 0.5602702\ttotal: 277ms\tremaining: 7.42s\n",
      "36:\tlearn: 0.5572447\ttotal: 280ms\tremaining: 7.28s\n",
      "37:\tlearn: 0.5541878\ttotal: 282ms\tremaining: 7.15s\n",
      "38:\tlearn: 0.5511291\ttotal: 285ms\tremaining: 7.02s\n",
      "39:\tlearn: 0.5489539\ttotal: 286ms\tremaining: 6.87s\n",
      "40:\tlearn: 0.5463849\ttotal: 289ms\tremaining: 6.75s\n",
      "41:\tlearn: 0.5427682\ttotal: 291ms\tremaining: 6.64s\n",
      "42:\tlearn: 0.5391808\ttotal: 294ms\tremaining: 6.54s\n",
      "43:\tlearn: 0.5360641\ttotal: 296ms\tremaining: 6.44s\n",
      "44:\tlearn: 0.5333232\ttotal: 299ms\tremaining: 6.34s\n",
      "45:\tlearn: 0.5301492\ttotal: 301ms\tremaining: 6.25s\n",
      "46:\tlearn: 0.5275246\ttotal: 304ms\tremaining: 6.16s\n",
      "47:\tlearn: 0.5242459\ttotal: 306ms\tremaining: 6.08s\n",
      "48:\tlearn: 0.5221024\ttotal: 309ms\tremaining: 6s\n",
      "49:\tlearn: 0.5190733\ttotal: 313ms\tremaining: 5.94s\n",
      "50:\tlearn: 0.5168700\ttotal: 316ms\tremaining: 5.88s\n",
      "51:\tlearn: 0.5147093\ttotal: 319ms\tremaining: 5.81s\n",
      "52:\tlearn: 0.5132221\ttotal: 321ms\tremaining: 5.74s\n",
      "53:\tlearn: 0.5105942\ttotal: 324ms\tremaining: 5.68s\n",
      "54:\tlearn: 0.5078604\ttotal: 327ms\tremaining: 5.63s\n",
      "55:\tlearn: 0.5053374\ttotal: 331ms\tremaining: 5.58s\n",
      "56:\tlearn: 0.5023931\ttotal: 336ms\tremaining: 5.55s\n",
      "57:\tlearn: 0.5002856\ttotal: 339ms\tremaining: 5.5s\n",
      "58:\tlearn: 0.4977347\ttotal: 343ms\tremaining: 5.46s\n",
      "59:\tlearn: 0.4951908\ttotal: 346ms\tremaining: 5.41s\n",
      "60:\tlearn: 0.4921119\ttotal: 348ms\tremaining: 5.36s\n",
      "61:\tlearn: 0.4903544\ttotal: 350ms\tremaining: 5.3s\n",
      "62:\tlearn: 0.4877597\ttotal: 353ms\tremaining: 5.25s\n",
      "63:\tlearn: 0.4856962\ttotal: 356ms\tremaining: 5.21s\n",
      "64:\tlearn: 0.4833646\ttotal: 359ms\tremaining: 5.16s\n",
      "65:\tlearn: 0.4806183\ttotal: 362ms\tremaining: 5.12s\n",
      "66:\tlearn: 0.4781270\ttotal: 365ms\tremaining: 5.08s\n",
      "67:\tlearn: 0.4755920\ttotal: 368ms\tremaining: 5.04s\n",
      "68:\tlearn: 0.4737539\ttotal: 370ms\tremaining: 4.99s\n",
      "69:\tlearn: 0.4716242\ttotal: 372ms\tremaining: 4.95s\n",
      "70:\tlearn: 0.4698309\ttotal: 376ms\tremaining: 4.92s\n",
      "71:\tlearn: 0.4676538\ttotal: 378ms\tremaining: 4.88s\n",
      "72:\tlearn: 0.4649615\ttotal: 382ms\tremaining: 4.85s\n",
      "73:\tlearn: 0.4628468\ttotal: 385ms\tremaining: 4.82s\n",
      "74:\tlearn: 0.4607932\ttotal: 387ms\tremaining: 4.78s\n",
      "75:\tlearn: 0.4598354\ttotal: 389ms\tremaining: 4.73s\n",
      "76:\tlearn: 0.4578086\ttotal: 391ms\tremaining: 4.69s\n",
      "77:\tlearn: 0.4563212\ttotal: 394ms\tremaining: 4.66s\n",
      "78:\tlearn: 0.4537540\ttotal: 396ms\tremaining: 4.62s\n",
      "79:\tlearn: 0.4516846\ttotal: 399ms\tremaining: 4.58s\n",
      "80:\tlearn: 0.4496941\ttotal: 401ms\tremaining: 4.55s\n",
      "81:\tlearn: 0.4488329\ttotal: 402ms\tremaining: 4.5s\n",
      "82:\tlearn: 0.4468679\ttotal: 405ms\tremaining: 4.47s\n",
      "83:\tlearn: 0.4446960\ttotal: 407ms\tremaining: 4.44s\n",
      "84:\tlearn: 0.4424666\ttotal: 410ms\tremaining: 4.41s\n",
      "85:\tlearn: 0.4409826\ttotal: 412ms\tremaining: 4.38s\n",
      "86:\tlearn: 0.4387954\ttotal: 415ms\tremaining: 4.35s\n",
      "87:\tlearn: 0.4370572\ttotal: 417ms\tremaining: 4.32s\n",
      "88:\tlearn: 0.4355291\ttotal: 420ms\tremaining: 4.29s\n",
      "89:\tlearn: 0.4336326\ttotal: 422ms\tremaining: 4.27s\n",
      "90:\tlearn: 0.4316057\ttotal: 424ms\tremaining: 4.24s\n",
      "91:\tlearn: 0.4301122\ttotal: 427ms\tremaining: 4.21s\n",
      "92:\tlearn: 0.4281453\ttotal: 429ms\tremaining: 4.19s\n",
      "93:\tlearn: 0.4265676\ttotal: 432ms\tremaining: 4.16s\n",
      "94:\tlearn: 0.4245225\ttotal: 434ms\tremaining: 4.13s\n",
      "95:\tlearn: 0.4223468\ttotal: 436ms\tremaining: 4.11s\n",
      "96:\tlearn: 0.4207012\ttotal: 438ms\tremaining: 4.07s\n",
      "97:\tlearn: 0.4188796\ttotal: 439ms\tremaining: 4.04s\n",
      "98:\tlearn: 0.4172160\ttotal: 441ms\tremaining: 4.01s\n",
      "99:\tlearn: 0.4153960\ttotal: 442ms\tremaining: 3.98s\n",
      "100:\tlearn: 0.4133965\ttotal: 444ms\tremaining: 3.95s\n",
      "101:\tlearn: 0.4117151\ttotal: 445ms\tremaining: 3.92s\n",
      "102:\tlearn: 0.4101508\ttotal: 446ms\tremaining: 3.88s\n",
      "103:\tlearn: 0.4084196\ttotal: 447ms\tremaining: 3.85s\n",
      "104:\tlearn: 0.4067881\ttotal: 448ms\tremaining: 3.82s\n",
      "105:\tlearn: 0.4049958\ttotal: 449ms\tremaining: 3.79s\n",
      "106:\tlearn: 0.4035522\ttotal: 451ms\tremaining: 3.76s\n",
      "107:\tlearn: 0.4022242\ttotal: 452ms\tremaining: 3.73s\n",
      "108:\tlearn: 0.4011506\ttotal: 453ms\tremaining: 3.7s\n",
      "109:\tlearn: 0.3999739\ttotal: 454ms\tremaining: 3.67s\n",
      "110:\tlearn: 0.3987847\ttotal: 455ms\tremaining: 3.64s\n",
      "111:\tlearn: 0.3969744\ttotal: 456ms\tremaining: 3.61s\n",
      "112:\tlearn: 0.3955075\ttotal: 457ms\tremaining: 3.58s\n",
      "113:\tlearn: 0.3939649\ttotal: 458ms\tremaining: 3.56s\n",
      "114:\tlearn: 0.3921479\ttotal: 459ms\tremaining: 3.53s\n",
      "115:\tlearn: 0.3907593\ttotal: 460ms\tremaining: 3.5s\n",
      "116:\tlearn: 0.3898704\ttotal: 461ms\tremaining: 3.48s\n",
      "117:\tlearn: 0.3884128\ttotal: 462ms\tremaining: 3.45s\n",
      "118:\tlearn: 0.3864922\ttotal: 463ms\tremaining: 3.43s\n",
      "119:\tlearn: 0.3846920\ttotal: 464ms\tremaining: 3.4s\n",
      "120:\tlearn: 0.3834108\ttotal: 465ms\tremaining: 3.38s\n",
      "121:\tlearn: 0.3823522\ttotal: 466ms\tremaining: 3.35s\n",
      "122:\tlearn: 0.3808578\ttotal: 467ms\tremaining: 3.33s\n",
      "123:\tlearn: 0.3794781\ttotal: 468ms\tremaining: 3.31s\n",
      "124:\tlearn: 0.3783892\ttotal: 469ms\tremaining: 3.28s\n",
      "125:\tlearn: 0.3770862\ttotal: 470ms\tremaining: 3.26s\n",
      "126:\tlearn: 0.3755641\ttotal: 471ms\tremaining: 3.24s\n",
      "127:\tlearn: 0.3740598\ttotal: 472ms\tremaining: 3.22s\n",
      "128:\tlearn: 0.3727611\ttotal: 474ms\tremaining: 3.2s\n",
      "129:\tlearn: 0.3717514\ttotal: 475ms\tremaining: 3.17s\n",
      "130:\tlearn: 0.3701830\ttotal: 476ms\tremaining: 3.15s\n",
      "131:\tlearn: 0.3687687\ttotal: 477ms\tremaining: 3.13s\n",
      "132:\tlearn: 0.3673526\ttotal: 478ms\tremaining: 3.11s\n",
      "133:\tlearn: 0.3660983\ttotal: 479ms\tremaining: 3.09s\n",
      "134:\tlearn: 0.3647508\ttotal: 480ms\tremaining: 3.07s\n",
      "135:\tlearn: 0.3632735\ttotal: 481ms\tremaining: 3.05s\n",
      "136:\tlearn: 0.3622400\ttotal: 481ms\tremaining: 3.03s\n",
      "137:\tlearn: 0.3610081\ttotal: 482ms\tremaining: 3.01s\n",
      "138:\tlearn: 0.3595232\ttotal: 483ms\tremaining: 2.99s\n",
      "139:\tlearn: 0.3582915\ttotal: 485ms\tremaining: 2.98s\n",
      "140:\tlearn: 0.3567474\ttotal: 486ms\tremaining: 2.96s\n",
      "141:\tlearn: 0.3554618\ttotal: 487ms\tremaining: 2.94s\n",
      "142:\tlearn: 0.3548275\ttotal: 487ms\tremaining: 2.92s\n",
      "143:\tlearn: 0.3536086\ttotal: 488ms\tremaining: 2.9s\n",
      "144:\tlearn: 0.3522512\ttotal: 489ms\tremaining: 2.88s\n",
      "145:\tlearn: 0.3509350\ttotal: 490ms\tremaining: 2.87s\n",
      "146:\tlearn: 0.3498208\ttotal: 491ms\tremaining: 2.85s\n",
      "147:\tlearn: 0.3485375\ttotal: 495ms\tremaining: 2.85s\n",
      "148:\tlearn: 0.3470572\ttotal: 496ms\tremaining: 2.83s\n",
      "149:\tlearn: 0.3466311\ttotal: 497ms\tremaining: 2.81s\n",
      "150:\tlearn: 0.3455323\ttotal: 498ms\tremaining: 2.8s\n",
      "151:\tlearn: 0.3447566\ttotal: 499ms\tremaining: 2.78s\n",
      "152:\tlearn: 0.3437288\ttotal: 501ms\tremaining: 2.77s\n",
      "153:\tlearn: 0.3422920\ttotal: 502ms\tremaining: 2.76s\n",
      "154:\tlearn: 0.3410709\ttotal: 503ms\tremaining: 2.74s\n",
      "155:\tlearn: 0.3398948\ttotal: 504ms\tremaining: 2.73s\n",
      "156:\tlearn: 0.3384845\ttotal: 506ms\tremaining: 2.71s\n",
      "157:\tlearn: 0.3370873\ttotal: 507ms\tremaining: 2.7s\n",
      "158:\tlearn: 0.3359132\ttotal: 508ms\tremaining: 2.69s\n",
      "159:\tlearn: 0.3351632\ttotal: 510ms\tremaining: 2.68s\n",
      "160:\tlearn: 0.3341970\ttotal: 512ms\tremaining: 2.67s\n",
      "161:\tlearn: 0.3328615\ttotal: 513ms\tremaining: 2.65s\n",
      "162:\tlearn: 0.3319438\ttotal: 514ms\tremaining: 2.64s\n",
      "163:\tlearn: 0.3309132\ttotal: 516ms\tremaining: 2.63s\n",
      "164:\tlearn: 0.3299698\ttotal: 517ms\tremaining: 2.62s\n",
      "165:\tlearn: 0.3287328\ttotal: 518ms\tremaining: 2.6s\n",
      "166:\tlearn: 0.3274737\ttotal: 520ms\tremaining: 2.59s\n",
      "167:\tlearn: 0.3263874\ttotal: 521ms\tremaining: 2.58s\n",
      "168:\tlearn: 0.3251996\ttotal: 524ms\tremaining: 2.57s\n",
      "169:\tlearn: 0.3239601\ttotal: 525ms\tremaining: 2.56s\n",
      "170:\tlearn: 0.3230325\ttotal: 527ms\tremaining: 2.56s\n",
      "171:\tlearn: 0.3220757\ttotal: 530ms\tremaining: 2.55s\n",
      "172:\tlearn: 0.3210720\ttotal: 531ms\tremaining: 2.54s\n",
      "173:\tlearn: 0.3200671\ttotal: 533ms\tremaining: 2.53s\n",
      "174:\tlearn: 0.3186452\ttotal: 535ms\tremaining: 2.52s\n",
      "175:\tlearn: 0.3177812\ttotal: 536ms\tremaining: 2.51s\n",
      "176:\tlearn: 0.3165537\ttotal: 538ms\tremaining: 2.5s\n",
      "177:\tlearn: 0.3158526\ttotal: 539ms\tremaining: 2.49s\n",
      "178:\tlearn: 0.3147607\ttotal: 540ms\tremaining: 2.48s\n",
      "179:\tlearn: 0.3136331\ttotal: 542ms\tremaining: 2.47s\n",
      "180:\tlearn: 0.3127535\ttotal: 544ms\tremaining: 2.46s\n",
      "181:\tlearn: 0.3119639\ttotal: 545ms\tremaining: 2.45s\n",
      "182:\tlearn: 0.3110612\ttotal: 546ms\tremaining: 2.44s\n",
      "183:\tlearn: 0.3099474\ttotal: 548ms\tremaining: 2.43s\n",
      "184:\tlearn: 0.3088790\ttotal: 549ms\tremaining: 2.42s\n",
      "185:\tlearn: 0.3084518\ttotal: 551ms\tremaining: 2.41s\n",
      "186:\tlearn: 0.3076530\ttotal: 552ms\tremaining: 2.4s\n",
      "187:\tlearn: 0.3065672\ttotal: 553ms\tremaining: 2.39s\n",
      "188:\tlearn: 0.3057674\ttotal: 555ms\tremaining: 2.38s\n",
      "189:\tlearn: 0.3045200\ttotal: 557ms\tremaining: 2.37s\n",
      "190:\tlearn: 0.3034743\ttotal: 558ms\tremaining: 2.36s\n",
      "191:\tlearn: 0.3025679\ttotal: 560ms\tremaining: 2.35s\n",
      "192:\tlearn: 0.3013596\ttotal: 562ms\tremaining: 2.35s\n",
      "193:\tlearn: 0.3003793\ttotal: 563ms\tremaining: 2.34s\n",
      "194:\tlearn: 0.2997508\ttotal: 564ms\tremaining: 2.33s\n",
      "195:\tlearn: 0.2988326\ttotal: 565ms\tremaining: 2.32s\n",
      "196:\tlearn: 0.2980947\ttotal: 567ms\tremaining: 2.31s\n",
      "197:\tlearn: 0.2971663\ttotal: 568ms\tremaining: 2.3s\n",
      "198:\tlearn: 0.2960394\ttotal: 570ms\tremaining: 2.29s\n",
      "199:\tlearn: 0.2951853\ttotal: 571ms\tremaining: 2.28s\n",
      "200:\tlearn: 0.2941119\ttotal: 573ms\tremaining: 2.28s\n",
      "201:\tlearn: 0.2932750\ttotal: 574ms\tremaining: 2.27s\n",
      "202:\tlearn: 0.2923022\ttotal: 575ms\tremaining: 2.26s\n",
      "203:\tlearn: 0.2913222\ttotal: 576ms\tremaining: 2.25s\n",
      "204:\tlearn: 0.2907525\ttotal: 578ms\tremaining: 2.24s\n",
      "205:\tlearn: 0.2898257\ttotal: 579ms\tremaining: 2.23s\n",
      "206:\tlearn: 0.2890982\ttotal: 580ms\tremaining: 2.22s\n",
      "207:\tlearn: 0.2884299\ttotal: 581ms\tremaining: 2.21s\n",
      "208:\tlearn: 0.2879531\ttotal: 582ms\tremaining: 2.2s\n",
      "209:\tlearn: 0.2870571\ttotal: 584ms\tremaining: 2.19s\n",
      "210:\tlearn: 0.2861873\ttotal: 585ms\tremaining: 2.19s\n",
      "211:\tlearn: 0.2855583\ttotal: 586ms\tremaining: 2.18s\n",
      "212:\tlearn: 0.2848357\ttotal: 587ms\tremaining: 2.17s\n",
      "213:\tlearn: 0.2840335\ttotal: 589ms\tremaining: 2.16s\n",
      "214:\tlearn: 0.2830888\ttotal: 590ms\tremaining: 2.15s\n",
      "215:\tlearn: 0.2825369\ttotal: 591ms\tremaining: 2.14s\n",
      "216:\tlearn: 0.2818911\ttotal: 592ms\tremaining: 2.14s\n",
      "217:\tlearn: 0.2808400\ttotal: 594ms\tremaining: 2.13s\n",
      "218:\tlearn: 0.2801073\ttotal: 595ms\tremaining: 2.12s\n",
      "219:\tlearn: 0.2793249\ttotal: 596ms\tremaining: 2.11s\n",
      "220:\tlearn: 0.2786636\ttotal: 597ms\tremaining: 2.1s\n",
      "221:\tlearn: 0.2781670\ttotal: 598ms\tremaining: 2.1s\n",
      "222:\tlearn: 0.2776372\ttotal: 599ms\tremaining: 2.09s\n",
      "223:\tlearn: 0.2767683\ttotal: 601ms\tremaining: 2.08s\n",
      "224:\tlearn: 0.2758431\ttotal: 602ms\tremaining: 2.07s\n",
      "225:\tlearn: 0.2748642\ttotal: 603ms\tremaining: 2.06s\n",
      "226:\tlearn: 0.2740759\ttotal: 604ms\tremaining: 2.06s\n",
      "227:\tlearn: 0.2732088\ttotal: 605ms\tremaining: 2.05s\n",
      "228:\tlearn: 0.2722923\ttotal: 607ms\tremaining: 2.04s\n",
      "229:\tlearn: 0.2714191\ttotal: 608ms\tremaining: 2.03s\n",
      "230:\tlearn: 0.2707019\ttotal: 609ms\tremaining: 2.03s\n",
      "231:\tlearn: 0.2699402\ttotal: 610ms\tremaining: 2.02s\n",
      "232:\tlearn: 0.2691132\ttotal: 611ms\tremaining: 2.01s\n",
      "233:\tlearn: 0.2684715\ttotal: 612ms\tremaining: 2s\n",
      "234:\tlearn: 0.2675793\ttotal: 614ms\tremaining: 2s\n",
      "235:\tlearn: 0.2667377\ttotal: 615ms\tremaining: 1.99s\n",
      "236:\tlearn: 0.2659157\ttotal: 616ms\tremaining: 1.98s\n",
      "237:\tlearn: 0.2649227\ttotal: 617ms\tremaining: 1.98s\n",
      "238:\tlearn: 0.2643411\ttotal: 618ms\tremaining: 1.97s\n",
      "239:\tlearn: 0.2636384\ttotal: 620ms\tremaining: 1.96s\n",
      "240:\tlearn: 0.2628413\ttotal: 621ms\tremaining: 1.95s\n",
      "241:\tlearn: 0.2619960\ttotal: 622ms\tremaining: 1.95s\n",
      "242:\tlearn: 0.2611023\ttotal: 623ms\tremaining: 1.94s\n",
      "243:\tlearn: 0.2604498\ttotal: 624ms\tremaining: 1.93s\n",
      "244:\tlearn: 0.2599282\ttotal: 625ms\tremaining: 1.93s\n",
      "245:\tlearn: 0.2591807\ttotal: 626ms\tremaining: 1.92s\n",
      "246:\tlearn: 0.2586690\ttotal: 627ms\tremaining: 1.91s\n",
      "247:\tlearn: 0.2580212\ttotal: 628ms\tremaining: 1.9s\n",
      "248:\tlearn: 0.2576459\ttotal: 629ms\tremaining: 1.9s\n",
      "249:\tlearn: 0.2569562\ttotal: 630ms\tremaining: 1.89s\n",
      "250:\tlearn: 0.2563403\ttotal: 631ms\tremaining: 1.88s\n",
      "251:\tlearn: 0.2555858\ttotal: 632ms\tremaining: 1.88s\n",
      "252:\tlearn: 0.2548617\ttotal: 633ms\tremaining: 1.87s\n",
      "253:\tlearn: 0.2541100\ttotal: 635ms\tremaining: 1.86s\n",
      "254:\tlearn: 0.2536395\ttotal: 636ms\tremaining: 1.86s\n",
      "255:\tlearn: 0.2529965\ttotal: 637ms\tremaining: 1.85s\n",
      "256:\tlearn: 0.2522004\ttotal: 638ms\tremaining: 1.84s\n",
      "257:\tlearn: 0.2514592\ttotal: 639ms\tremaining: 1.84s\n",
      "258:\tlearn: 0.2509758\ttotal: 640ms\tremaining: 1.83s\n",
      "259:\tlearn: 0.2506356\ttotal: 641ms\tremaining: 1.82s\n",
      "260:\tlearn: 0.2501623\ttotal: 642ms\tremaining: 1.82s\n",
      "261:\tlearn: 0.2494903\ttotal: 643ms\tremaining: 1.81s\n",
      "262:\tlearn: 0.2490670\ttotal: 644ms\tremaining: 1.8s\n",
      "263:\tlearn: 0.2485977\ttotal: 645ms\tremaining: 1.8s\n",
      "264:\tlearn: 0.2479687\ttotal: 646ms\tremaining: 1.79s\n",
      "265:\tlearn: 0.2473472\ttotal: 647ms\tremaining: 1.78s\n",
      "266:\tlearn: 0.2472173\ttotal: 647ms\tremaining: 1.78s\n",
      "267:\tlearn: 0.2465905\ttotal: 648ms\tremaining: 1.77s\n",
      "268:\tlearn: 0.2459849\ttotal: 649ms\tremaining: 1.76s\n",
      "269:\tlearn: 0.2455943\ttotal: 650ms\tremaining: 1.76s\n",
      "270:\tlearn: 0.2448906\ttotal: 651ms\tremaining: 1.75s\n",
      "271:\tlearn: 0.2444115\ttotal: 652ms\tremaining: 1.75s\n",
      "272:\tlearn: 0.2438894\ttotal: 653ms\tremaining: 1.74s\n",
      "273:\tlearn: 0.2436144\ttotal: 654ms\tremaining: 1.73s\n",
      "274:\tlearn: 0.2432166\ttotal: 655ms\tremaining: 1.73s\n",
      "275:\tlearn: 0.2425508\ttotal: 656ms\tremaining: 1.72s\n",
      "276:\tlearn: 0.2417981\ttotal: 657ms\tremaining: 1.72s\n",
      "277:\tlearn: 0.2412125\ttotal: 658ms\tremaining: 1.71s\n",
      "278:\tlearn: 0.2407344\ttotal: 659ms\tremaining: 1.7s\n",
      "279:\tlearn: 0.2401875\ttotal: 660ms\tremaining: 1.7s\n",
      "280:\tlearn: 0.2392568\ttotal: 661ms\tremaining: 1.69s\n",
      "281:\tlearn: 0.2389769\ttotal: 662ms\tremaining: 1.69s\n",
      "282:\tlearn: 0.2384368\ttotal: 663ms\tremaining: 1.68s\n",
      "283:\tlearn: 0.2379735\ttotal: 664ms\tremaining: 1.68s\n",
      "284:\tlearn: 0.2375394\ttotal: 665ms\tremaining: 1.67s\n",
      "285:\tlearn: 0.2369351\ttotal: 666ms\tremaining: 1.66s\n",
      "286:\tlearn: 0.2363811\ttotal: 667ms\tremaining: 1.66s\n",
      "287:\tlearn: 0.2359442\ttotal: 668ms\tremaining: 1.65s\n",
      "288:\tlearn: 0.2354748\ttotal: 669ms\tremaining: 1.65s\n",
      "289:\tlearn: 0.2350184\ttotal: 670ms\tremaining: 1.64s\n",
      "290:\tlearn: 0.2343853\ttotal: 671ms\tremaining: 1.64s\n",
      "291:\tlearn: 0.2338481\ttotal: 672ms\tremaining: 1.63s\n",
      "292:\tlearn: 0.2337201\ttotal: 673ms\tremaining: 1.62s\n",
      "293:\tlearn: 0.2330822\ttotal: 674ms\tremaining: 1.62s\n",
      "294:\tlearn: 0.2326828\ttotal: 675ms\tremaining: 1.61s\n",
      "295:\tlearn: 0.2322247\ttotal: 676ms\tremaining: 1.61s\n",
      "296:\tlearn: 0.2315875\ttotal: 678ms\tremaining: 1.6s\n",
      "297:\tlearn: 0.2312795\ttotal: 679ms\tremaining: 1.6s\n",
      "298:\tlearn: 0.2304629\ttotal: 680ms\tremaining: 1.59s\n",
      "299:\tlearn: 0.2299752\ttotal: 681ms\tremaining: 1.59s\n",
      "300:\tlearn: 0.2293884\ttotal: 682ms\tremaining: 1.58s\n",
      "301:\tlearn: 0.2288436\ttotal: 683ms\tremaining: 1.58s\n",
      "302:\tlearn: 0.2283935\ttotal: 684ms\tremaining: 1.57s\n",
      "303:\tlearn: 0.2278984\ttotal: 685ms\tremaining: 1.57s\n",
      "304:\tlearn: 0.2274073\ttotal: 686ms\tremaining: 1.56s\n"
     ]
    },
    {
     "name": "stdout",
     "output_type": "stream",
     "text": [
      "305:\tlearn: 0.2271502\ttotal: 690ms\tremaining: 1.56s\n",
      "306:\tlearn: 0.2264904\ttotal: 692ms\tremaining: 1.56s\n",
      "307:\tlearn: 0.2259887\ttotal: 693ms\tremaining: 1.56s\n",
      "308:\tlearn: 0.2256029\ttotal: 694ms\tremaining: 1.55s\n",
      "309:\tlearn: 0.2252983\ttotal: 696ms\tremaining: 1.55s\n",
      "310:\tlearn: 0.2246917\ttotal: 697ms\tremaining: 1.54s\n",
      "311:\tlearn: 0.2242863\ttotal: 698ms\tremaining: 1.54s\n",
      "312:\tlearn: 0.2239097\ttotal: 700ms\tremaining: 1.53s\n",
      "313:\tlearn: 0.2230984\ttotal: 701ms\tremaining: 1.53s\n",
      "314:\tlearn: 0.2227661\ttotal: 702ms\tremaining: 1.53s\n",
      "315:\tlearn: 0.2220823\ttotal: 704ms\tremaining: 1.52s\n",
      "316:\tlearn: 0.2218296\ttotal: 705ms\tremaining: 1.52s\n",
      "317:\tlearn: 0.2214329\ttotal: 706ms\tremaining: 1.51s\n",
      "318:\tlearn: 0.2207937\ttotal: 708ms\tremaining: 1.51s\n",
      "319:\tlearn: 0.2206715\ttotal: 708ms\tremaining: 1.5s\n",
      "320:\tlearn: 0.2203360\ttotal: 710ms\tremaining: 1.5s\n",
      "321:\tlearn: 0.2198787\ttotal: 711ms\tremaining: 1.5s\n",
      "322:\tlearn: 0.2194773\ttotal: 713ms\tremaining: 1.49s\n",
      "323:\tlearn: 0.2189427\ttotal: 714ms\tremaining: 1.49s\n",
      "324:\tlearn: 0.2184060\ttotal: 715ms\tremaining: 1.49s\n",
      "325:\tlearn: 0.2180254\ttotal: 717ms\tremaining: 1.48s\n",
      "326:\tlearn: 0.2176543\ttotal: 718ms\tremaining: 1.48s\n",
      "327:\tlearn: 0.2171764\ttotal: 719ms\tremaining: 1.47s\n",
      "328:\tlearn: 0.2166798\ttotal: 721ms\tremaining: 1.47s\n",
      "329:\tlearn: 0.2162316\ttotal: 722ms\tremaining: 1.47s\n",
      "330:\tlearn: 0.2160904\ttotal: 723ms\tremaining: 1.46s\n",
      "331:\tlearn: 0.2155695\ttotal: 725ms\tremaining: 1.46s\n",
      "332:\tlearn: 0.2150806\ttotal: 727ms\tremaining: 1.46s\n",
      "333:\tlearn: 0.2146806\ttotal: 728ms\tremaining: 1.45s\n",
      "334:\tlearn: 0.2142721\ttotal: 730ms\tremaining: 1.45s\n",
      "335:\tlearn: 0.2139493\ttotal: 731ms\tremaining: 1.44s\n",
      "336:\tlearn: 0.2134430\ttotal: 732ms\tremaining: 1.44s\n",
      "337:\tlearn: 0.2130139\ttotal: 734ms\tremaining: 1.44s\n",
      "338:\tlearn: 0.2126176\ttotal: 735ms\tremaining: 1.43s\n",
      "339:\tlearn: 0.2121610\ttotal: 736ms\tremaining: 1.43s\n",
      "340:\tlearn: 0.2117495\ttotal: 738ms\tremaining: 1.43s\n",
      "341:\tlearn: 0.2113559\ttotal: 739ms\tremaining: 1.42s\n",
      "342:\tlearn: 0.2109933\ttotal: 740ms\tremaining: 1.42s\n",
      "343:\tlearn: 0.2105649\ttotal: 742ms\tremaining: 1.41s\n",
      "344:\tlearn: 0.2103378\ttotal: 743ms\tremaining: 1.41s\n",
      "345:\tlearn: 0.2098657\ttotal: 744ms\tremaining: 1.41s\n",
      "346:\tlearn: 0.2093179\ttotal: 745ms\tremaining: 1.4s\n",
      "347:\tlearn: 0.2085840\ttotal: 747ms\tremaining: 1.4s\n",
      "348:\tlearn: 0.2082899\ttotal: 748ms\tremaining: 1.39s\n",
      "349:\tlearn: 0.2077004\ttotal: 749ms\tremaining: 1.39s\n",
      "350:\tlearn: 0.2071901\ttotal: 750ms\tremaining: 1.39s\n",
      "351:\tlearn: 0.2067024\ttotal: 752ms\tremaining: 1.38s\n",
      "352:\tlearn: 0.2064162\ttotal: 753ms\tremaining: 1.38s\n",
      "353:\tlearn: 0.2063579\ttotal: 754ms\tremaining: 1.38s\n",
      "354:\tlearn: 0.2059583\ttotal: 755ms\tremaining: 1.37s\n",
      "355:\tlearn: 0.2057026\ttotal: 756ms\tremaining: 1.37s\n",
      "356:\tlearn: 0.2051853\ttotal: 757ms\tremaining: 1.36s\n",
      "357:\tlearn: 0.2048874\ttotal: 758ms\tremaining: 1.36s\n",
      "358:\tlearn: 0.2044672\ttotal: 759ms\tremaining: 1.36s\n",
      "359:\tlearn: 0.2041031\ttotal: 761ms\tremaining: 1.35s\n",
      "360:\tlearn: 0.2037200\ttotal: 762ms\tremaining: 1.35s\n",
      "361:\tlearn: 0.2034133\ttotal: 763ms\tremaining: 1.34s\n",
      "362:\tlearn: 0.2030021\ttotal: 764ms\tremaining: 1.34s\n",
      "363:\tlearn: 0.2023675\ttotal: 766ms\tremaining: 1.34s\n",
      "364:\tlearn: 0.2021196\ttotal: 767ms\tremaining: 1.33s\n",
      "365:\tlearn: 0.2016517\ttotal: 768ms\tremaining: 1.33s\n",
      "366:\tlearn: 0.2010052\ttotal: 769ms\tremaining: 1.33s\n",
      "367:\tlearn: 0.2006096\ttotal: 771ms\tremaining: 1.32s\n",
      "368:\tlearn: 0.2005580\ttotal: 771ms\tremaining: 1.32s\n",
      "369:\tlearn: 0.1999800\ttotal: 772ms\tremaining: 1.31s\n",
      "370:\tlearn: 0.1995199\ttotal: 773ms\tremaining: 1.31s\n",
      "371:\tlearn: 0.1992219\ttotal: 774ms\tremaining: 1.31s\n",
      "372:\tlearn: 0.1989228\ttotal: 776ms\tremaining: 1.3s\n",
      "373:\tlearn: 0.1986149\ttotal: 777ms\tremaining: 1.3s\n",
      "374:\tlearn: 0.1981744\ttotal: 778ms\tremaining: 1.3s\n",
      "375:\tlearn: 0.1978358\ttotal: 779ms\tremaining: 1.29s\n",
      "376:\tlearn: 0.1975926\ttotal: 780ms\tremaining: 1.29s\n",
      "377:\tlearn: 0.1974565\ttotal: 781ms\tremaining: 1.28s\n",
      "378:\tlearn: 0.1971726\ttotal: 782ms\tremaining: 1.28s\n",
      "379:\tlearn: 0.1968114\ttotal: 783ms\tremaining: 1.28s\n",
      "380:\tlearn: 0.1964155\ttotal: 785ms\tremaining: 1.27s\n",
      "381:\tlearn: 0.1961370\ttotal: 785ms\tremaining: 1.27s\n",
      "382:\tlearn: 0.1956880\ttotal: 787ms\tremaining: 1.27s\n",
      "383:\tlearn: 0.1954876\ttotal: 788ms\tremaining: 1.26s\n",
      "384:\tlearn: 0.1951195\ttotal: 789ms\tremaining: 1.26s\n",
      "385:\tlearn: 0.1946969\ttotal: 790ms\tremaining: 1.26s\n",
      "386:\tlearn: 0.1944135\ttotal: 791ms\tremaining: 1.25s\n",
      "387:\tlearn: 0.1939621\ttotal: 793ms\tremaining: 1.25s\n",
      "388:\tlearn: 0.1935862\ttotal: 794ms\tremaining: 1.25s\n",
      "389:\tlearn: 0.1932871\ttotal: 795ms\tremaining: 1.24s\n",
      "390:\tlearn: 0.1929520\ttotal: 796ms\tremaining: 1.24s\n",
      "391:\tlearn: 0.1926269\ttotal: 797ms\tremaining: 1.24s\n",
      "392:\tlearn: 0.1920875\ttotal: 798ms\tremaining: 1.23s\n",
      "393:\tlearn: 0.1917491\ttotal: 799ms\tremaining: 1.23s\n",
      "394:\tlearn: 0.1913726\ttotal: 801ms\tremaining: 1.23s\n",
      "395:\tlearn: 0.1910771\ttotal: 802ms\tremaining: 1.22s\n",
      "396:\tlearn: 0.1906130\ttotal: 803ms\tremaining: 1.22s\n",
      "397:\tlearn: 0.1903154\ttotal: 804ms\tremaining: 1.22s\n",
      "398:\tlearn: 0.1899835\ttotal: 805ms\tremaining: 1.21s\n",
      "399:\tlearn: 0.1895184\ttotal: 807ms\tremaining: 1.21s\n",
      "400:\tlearn: 0.1892748\ttotal: 807ms\tremaining: 1.21s\n",
      "401:\tlearn: 0.1887471\ttotal: 809ms\tremaining: 1.2s\n",
      "402:\tlearn: 0.1883419\ttotal: 810ms\tremaining: 1.2s\n",
      "403:\tlearn: 0.1880322\ttotal: 811ms\tremaining: 1.2s\n",
      "404:\tlearn: 0.1877440\ttotal: 812ms\tremaining: 1.19s\n",
      "405:\tlearn: 0.1873478\ttotal: 813ms\tremaining: 1.19s\n",
      "406:\tlearn: 0.1870420\ttotal: 814ms\tremaining: 1.19s\n",
      "407:\tlearn: 0.1865481\ttotal: 815ms\tremaining: 1.18s\n",
      "408:\tlearn: 0.1861746\ttotal: 816ms\tremaining: 1.18s\n",
      "409:\tlearn: 0.1858299\ttotal: 818ms\tremaining: 1.18s\n",
      "410:\tlearn: 0.1855001\ttotal: 819ms\tremaining: 1.17s\n",
      "411:\tlearn: 0.1852008\ttotal: 820ms\tremaining: 1.17s\n",
      "412:\tlearn: 0.1848924\ttotal: 821ms\tremaining: 1.17s\n",
      "413:\tlearn: 0.1846708\ttotal: 822ms\tremaining: 1.16s\n",
      "414:\tlearn: 0.1843531\ttotal: 823ms\tremaining: 1.16s\n",
      "415:\tlearn: 0.1840690\ttotal: 824ms\tremaining: 1.16s\n",
      "416:\tlearn: 0.1838502\ttotal: 825ms\tremaining: 1.15s\n",
      "417:\tlearn: 0.1834696\ttotal: 827ms\tremaining: 1.15s\n",
      "418:\tlearn: 0.1830839\ttotal: 828ms\tremaining: 1.15s\n",
      "419:\tlearn: 0.1827511\ttotal: 829ms\tremaining: 1.14s\n",
      "420:\tlearn: 0.1824671\ttotal: 830ms\tremaining: 1.14s\n",
      "421:\tlearn: 0.1822081\ttotal: 831ms\tremaining: 1.14s\n",
      "422:\tlearn: 0.1819364\ttotal: 833ms\tremaining: 1.14s\n",
      "423:\tlearn: 0.1814820\ttotal: 834ms\tremaining: 1.13s\n",
      "424:\tlearn: 0.1811851\ttotal: 835ms\tremaining: 1.13s\n",
      "425:\tlearn: 0.1809291\ttotal: 836ms\tremaining: 1.13s\n",
      "426:\tlearn: 0.1805423\ttotal: 837ms\tremaining: 1.12s\n",
      "427:\tlearn: 0.1803464\ttotal: 839ms\tremaining: 1.12s\n",
      "428:\tlearn: 0.1799852\ttotal: 840ms\tremaining: 1.12s\n",
      "429:\tlearn: 0.1796062\ttotal: 841ms\tremaining: 1.11s\n",
      "430:\tlearn: 0.1793640\ttotal: 842ms\tremaining: 1.11s\n",
      "431:\tlearn: 0.1790468\ttotal: 844ms\tremaining: 1.11s\n",
      "432:\tlearn: 0.1787540\ttotal: 845ms\tremaining: 1.11s\n",
      "433:\tlearn: 0.1785350\ttotal: 846ms\tremaining: 1.1s\n",
      "434:\tlearn: 0.1782579\ttotal: 847ms\tremaining: 1.1s\n",
      "435:\tlearn: 0.1778533\ttotal: 848ms\tremaining: 1.1s\n",
      "436:\tlearn: 0.1776287\ttotal: 849ms\tremaining: 1.09s\n",
      "437:\tlearn: 0.1772056\ttotal: 851ms\tremaining: 1.09s\n",
      "438:\tlearn: 0.1769086\ttotal: 852ms\tremaining: 1.09s\n",
      "439:\tlearn: 0.1766846\ttotal: 853ms\tremaining: 1.08s\n",
      "440:\tlearn: 0.1762968\ttotal: 854ms\tremaining: 1.08s\n",
      "441:\tlearn: 0.1761400\ttotal: 855ms\tremaining: 1.08s\n",
      "442:\tlearn: 0.1758382\ttotal: 856ms\tremaining: 1.08s\n",
      "443:\tlearn: 0.1754080\ttotal: 857ms\tremaining: 1.07s\n",
      "444:\tlearn: 0.1749844\ttotal: 859ms\tremaining: 1.07s\n",
      "445:\tlearn: 0.1745801\ttotal: 860ms\tremaining: 1.07s\n",
      "446:\tlearn: 0.1743053\ttotal: 861ms\tremaining: 1.06s\n",
      "447:\tlearn: 0.1740608\ttotal: 862ms\tremaining: 1.06s\n",
      "448:\tlearn: 0.1737312\ttotal: 863ms\tremaining: 1.06s\n",
      "449:\tlearn: 0.1734515\ttotal: 864ms\tremaining: 1.06s\n",
      "450:\tlearn: 0.1732333\ttotal: 866ms\tremaining: 1.05s\n",
      "451:\tlearn: 0.1728831\ttotal: 867ms\tremaining: 1.05s\n",
      "452:\tlearn: 0.1726470\ttotal: 868ms\tremaining: 1.05s\n",
      "453:\tlearn: 0.1722609\ttotal: 869ms\tremaining: 1.04s\n",
      "454:\tlearn: 0.1720480\ttotal: 870ms\tremaining: 1.04s\n",
      "455:\tlearn: 0.1718455\ttotal: 872ms\tremaining: 1.04s\n",
      "456:\tlearn: 0.1716413\ttotal: 873ms\tremaining: 1.04s\n",
      "457:\tlearn: 0.1713478\ttotal: 874ms\tremaining: 1.03s\n",
      "458:\tlearn: 0.1709768\ttotal: 875ms\tremaining: 1.03s\n",
      "459:\tlearn: 0.1707930\ttotal: 876ms\tremaining: 1.03s\n",
      "460:\tlearn: 0.1704915\ttotal: 878ms\tremaining: 1.03s\n",
      "461:\tlearn: 0.1704253\ttotal: 878ms\tremaining: 1.02s\n",
      "462:\tlearn: 0.1701974\ttotal: 879ms\tremaining: 1.02s\n",
      "463:\tlearn: 0.1700643\ttotal: 881ms\tremaining: 1.02s\n",
      "464:\tlearn: 0.1697958\ttotal: 881ms\tremaining: 1.01s\n",
      "465:\tlearn: 0.1695232\ttotal: 883ms\tremaining: 1.01s\n",
      "466:\tlearn: 0.1692443\ttotal: 885ms\tremaining: 1.01s\n",
      "467:\tlearn: 0.1689731\ttotal: 886ms\tremaining: 1.01s\n",
      "468:\tlearn: 0.1685913\ttotal: 888ms\tremaining: 1s\n",
      "469:\tlearn: 0.1683282\ttotal: 889ms\tremaining: 1s\n",
      "470:\tlearn: 0.1679297\ttotal: 890ms\tremaining: 1000ms\n",
      "471:\tlearn: 0.1677678\ttotal: 892ms\tremaining: 997ms\n",
      "472:\tlearn: 0.1675257\ttotal: 893ms\tremaining: 995ms\n",
      "473:\tlearn: 0.1673093\ttotal: 894ms\tremaining: 992ms\n",
      "474:\tlearn: 0.1670857\ttotal: 895ms\tremaining: 990ms\n",
      "475:\tlearn: 0.1667430\ttotal: 897ms\tremaining: 987ms\n",
      "476:\tlearn: 0.1664065\ttotal: 900ms\tremaining: 986ms\n",
      "477:\tlearn: 0.1661712\ttotal: 901ms\tremaining: 984ms\n",
      "478:\tlearn: 0.1657812\ttotal: 903ms\tremaining: 982ms\n",
      "479:\tlearn: 0.1654243\ttotal: 904ms\tremaining: 979ms\n",
      "480:\tlearn: 0.1652515\ttotal: 905ms\tremaining: 977ms\n",
      "481:\tlearn: 0.1650151\ttotal: 907ms\tremaining: 974ms\n",
      "482:\tlearn: 0.1648492\ttotal: 908ms\tremaining: 971ms\n",
      "483:\tlearn: 0.1644468\ttotal: 909ms\tremaining: 969ms\n",
      "484:\tlearn: 0.1642348\ttotal: 910ms\tremaining: 967ms\n",
      "485:\tlearn: 0.1638280\ttotal: 911ms\tremaining: 964ms\n",
      "486:\tlearn: 0.1635583\ttotal: 912ms\tremaining: 961ms\n",
      "487:\tlearn: 0.1632688\ttotal: 914ms\tremaining: 959ms\n",
      "488:\tlearn: 0.1630597\ttotal: 915ms\tremaining: 956ms\n",
      "489:\tlearn: 0.1627156\ttotal: 916ms\tremaining: 954ms\n",
      "490:\tlearn: 0.1625374\ttotal: 918ms\tremaining: 951ms\n",
      "491:\tlearn: 0.1622469\ttotal: 919ms\tremaining: 949ms\n",
      "492:\tlearn: 0.1620254\ttotal: 920ms\tremaining: 946ms\n",
      "493:\tlearn: 0.1618516\ttotal: 921ms\tremaining: 943ms\n",
      "494:\tlearn: 0.1616185\ttotal: 922ms\tremaining: 941ms\n",
      "495:\tlearn: 0.1613542\ttotal: 923ms\tremaining: 938ms\n",
      "496:\tlearn: 0.1611603\ttotal: 924ms\tremaining: 936ms\n",
      "497:\tlearn: 0.1608579\ttotal: 926ms\tremaining: 933ms\n",
      "498:\tlearn: 0.1606653\ttotal: 927ms\tremaining: 931ms\n",
      "499:\tlearn: 0.1603967\ttotal: 928ms\tremaining: 928ms\n",
      "500:\tlearn: 0.1601380\ttotal: 929ms\tremaining: 926ms\n",
      "501:\tlearn: 0.1599120\ttotal: 931ms\tremaining: 923ms\n",
      "502:\tlearn: 0.1597028\ttotal: 932ms\tremaining: 921ms\n",
      "503:\tlearn: 0.1596438\ttotal: 933ms\tremaining: 918ms\n",
      "504:\tlearn: 0.1594201\ttotal: 934ms\tremaining: 915ms\n",
      "505:\tlearn: 0.1591802\ttotal: 935ms\tremaining: 913ms\n",
      "506:\tlearn: 0.1589075\ttotal: 936ms\tremaining: 910ms\n",
      "507:\tlearn: 0.1586044\ttotal: 937ms\tremaining: 908ms\n",
      "508:\tlearn: 0.1584777\ttotal: 938ms\tremaining: 905ms\n",
      "509:\tlearn: 0.1582390\ttotal: 940ms\tremaining: 903ms\n",
      "510:\tlearn: 0.1578300\ttotal: 941ms\tremaining: 900ms\n",
      "511:\tlearn: 0.1575272\ttotal: 942ms\tremaining: 898ms\n",
      "512:\tlearn: 0.1572076\ttotal: 943ms\tremaining: 895ms\n",
      "513:\tlearn: 0.1569924\ttotal: 944ms\tremaining: 893ms\n",
      "514:\tlearn: 0.1566318\ttotal: 945ms\tremaining: 890ms\n",
      "515:\tlearn: 0.1563459\ttotal: 947ms\tremaining: 888ms\n",
      "516:\tlearn: 0.1561738\ttotal: 948ms\tremaining: 886ms\n",
      "517:\tlearn: 0.1559036\ttotal: 949ms\tremaining: 883ms\n",
      "518:\tlearn: 0.1557915\ttotal: 950ms\tremaining: 881ms\n",
      "519:\tlearn: 0.1555797\ttotal: 951ms\tremaining: 878ms\n",
      "520:\tlearn: 0.1553436\ttotal: 953ms\tremaining: 876ms\n",
      "521:\tlearn: 0.1551539\ttotal: 954ms\tremaining: 873ms\n",
      "522:\tlearn: 0.1549091\ttotal: 955ms\tremaining: 871ms\n",
      "523:\tlearn: 0.1548411\ttotal: 956ms\tremaining: 868ms\n",
      "524:\tlearn: 0.1546266\ttotal: 957ms\tremaining: 866ms\n",
      "525:\tlearn: 0.1544679\ttotal: 958ms\tremaining: 864ms\n",
      "526:\tlearn: 0.1542560\ttotal: 960ms\tremaining: 861ms\n",
      "527:\tlearn: 0.1539924\ttotal: 961ms\tremaining: 859ms\n",
      "528:\tlearn: 0.1537138\ttotal: 962ms\tremaining: 856ms\n",
      "529:\tlearn: 0.1534743\ttotal: 963ms\tremaining: 854ms\n",
      "530:\tlearn: 0.1532195\ttotal: 964ms\tremaining: 852ms\n",
      "531:\tlearn: 0.1530149\ttotal: 966ms\tremaining: 849ms\n",
      "532:\tlearn: 0.1527995\ttotal: 967ms\tremaining: 847ms\n",
      "533:\tlearn: 0.1525849\ttotal: 968ms\tremaining: 845ms\n",
      "534:\tlearn: 0.1524337\ttotal: 969ms\tremaining: 842ms\n",
      "535:\tlearn: 0.1521499\ttotal: 970ms\tremaining: 840ms\n",
      "536:\tlearn: 0.1518947\ttotal: 972ms\tremaining: 838ms\n",
      "537:\tlearn: 0.1517223\ttotal: 973ms\tremaining: 835ms\n",
      "538:\tlearn: 0.1513932\ttotal: 974ms\tremaining: 833ms\n",
      "539:\tlearn: 0.1511582\ttotal: 975ms\tremaining: 831ms\n",
      "540:\tlearn: 0.1510586\ttotal: 977ms\tremaining: 829ms\n",
      "541:\tlearn: 0.1508938\ttotal: 978ms\tremaining: 826ms\n",
      "542:\tlearn: 0.1507344\ttotal: 979ms\tremaining: 824ms\n",
      "543:\tlearn: 0.1503433\ttotal: 980ms\tremaining: 822ms\n",
      "544:\tlearn: 0.1500293\ttotal: 981ms\tremaining: 819ms\n",
      "545:\tlearn: 0.1498612\ttotal: 983ms\tremaining: 817ms\n",
      "546:\tlearn: 0.1497439\ttotal: 984ms\tremaining: 815ms\n",
      "547:\tlearn: 0.1495423\ttotal: 985ms\tremaining: 813ms\n",
      "548:\tlearn: 0.1493024\ttotal: 986ms\tremaining: 810ms\n",
      "549:\tlearn: 0.1490740\ttotal: 987ms\tremaining: 808ms\n",
      "550:\tlearn: 0.1488694\ttotal: 989ms\tremaining: 806ms\n",
      "551:\tlearn: 0.1486207\ttotal: 990ms\tremaining: 803ms\n",
      "552:\tlearn: 0.1484430\ttotal: 991ms\tremaining: 801ms\n",
      "553:\tlearn: 0.1481229\ttotal: 993ms\tremaining: 799ms\n",
      "554:\tlearn: 0.1478962\ttotal: 994ms\tremaining: 797ms\n",
      "555:\tlearn: 0.1476897\ttotal: 995ms\tremaining: 794ms\n",
      "556:\tlearn: 0.1474846\ttotal: 996ms\tremaining: 792ms\n",
      "557:\tlearn: 0.1471869\ttotal: 997ms\tremaining: 790ms\n",
      "558:\tlearn: 0.1469375\ttotal: 998ms\tremaining: 788ms\n",
      "559:\tlearn: 0.1467963\ttotal: 999ms\tremaining: 785ms\n",
      "560:\tlearn: 0.1465506\ttotal: 1s\tremaining: 783ms\n",
      "561:\tlearn: 0.1464045\ttotal: 1s\tremaining: 781ms\n",
      "562:\tlearn: 0.1461033\ttotal: 1s\tremaining: 778ms\n",
      "563:\tlearn: 0.1459403\ttotal: 1s\tremaining: 776ms\n",
      "564:\tlearn: 0.1457246\ttotal: 1s\tremaining: 774ms\n",
      "565:\tlearn: 0.1454717\ttotal: 1.01s\tremaining: 771ms\n",
      "566:\tlearn: 0.1453140\ttotal: 1.01s\tremaining: 769ms\n",
      "567:\tlearn: 0.1451623\ttotal: 1.01s\tremaining: 767ms\n",
      "568:\tlearn: 0.1448735\ttotal: 1.01s\tremaining: 765ms\n",
      "569:\tlearn: 0.1446245\ttotal: 1.01s\tremaining: 762ms\n",
      "570:\tlearn: 0.1444079\ttotal: 1.01s\tremaining: 760ms\n",
      "571:\tlearn: 0.1442368\ttotal: 1.01s\tremaining: 758ms\n",
      "572:\tlearn: 0.1439938\ttotal: 1.01s\tremaining: 756ms\n",
      "573:\tlearn: 0.1438316\ttotal: 1.01s\tremaining: 753ms\n",
      "574:\tlearn: 0.1435517\ttotal: 1.02s\tremaining: 751ms\n",
      "575:\tlearn: 0.1433096\ttotal: 1.02s\tremaining: 749ms\n",
      "576:\tlearn: 0.1431444\ttotal: 1.02s\tremaining: 747ms\n",
      "577:\tlearn: 0.1429259\ttotal: 1.02s\tremaining: 744ms\n",
      "578:\tlearn: 0.1428035\ttotal: 1.02s\tremaining: 742ms\n",
      "579:\tlearn: 0.1426049\ttotal: 1.02s\tremaining: 740ms\n",
      "580:\tlearn: 0.1423821\ttotal: 1.02s\tremaining: 738ms\n",
      "581:\tlearn: 0.1421255\ttotal: 1.02s\tremaining: 736ms\n",
      "582:\tlearn: 0.1419158\ttotal: 1.02s\tremaining: 734ms\n",
      "583:\tlearn: 0.1416819\ttotal: 1.03s\tremaining: 731ms\n",
      "584:\tlearn: 0.1413945\ttotal: 1.03s\tremaining: 729ms\n",
      "585:\tlearn: 0.1413573\ttotal: 1.03s\tremaining: 727ms\n",
      "586:\tlearn: 0.1411619\ttotal: 1.03s\tremaining: 724ms\n",
      "587:\tlearn: 0.1410157\ttotal: 1.03s\tremaining: 722ms\n",
      "588:\tlearn: 0.1407214\ttotal: 1.03s\tremaining: 720ms\n",
      "589:\tlearn: 0.1404342\ttotal: 1.03s\tremaining: 718ms\n",
      "590:\tlearn: 0.1402171\ttotal: 1.03s\tremaining: 716ms\n",
      "591:\tlearn: 0.1400244\ttotal: 1.03s\tremaining: 714ms\n",
      "592:\tlearn: 0.1398491\ttotal: 1.04s\tremaining: 711ms\n",
      "593:\tlearn: 0.1396761\ttotal: 1.04s\tremaining: 709ms\n",
      "594:\tlearn: 0.1394512\ttotal: 1.04s\tremaining: 707ms\n",
      "595:\tlearn: 0.1392483\ttotal: 1.04s\tremaining: 705ms\n",
      "596:\tlearn: 0.1389456\ttotal: 1.04s\tremaining: 703ms\n",
      "597:\tlearn: 0.1386811\ttotal: 1.04s\tremaining: 701ms\n",
      "598:\tlearn: 0.1385469\ttotal: 1.04s\tremaining: 699ms\n",
      "599:\tlearn: 0.1383778\ttotal: 1.04s\tremaining: 697ms\n",
      "600:\tlearn: 0.1381312\ttotal: 1.04s\tremaining: 694ms\n",
      "601:\tlearn: 0.1378406\ttotal: 1.05s\tremaining: 692ms\n",
      "602:\tlearn: 0.1375305\ttotal: 1.05s\tremaining: 690ms\n",
      "603:\tlearn: 0.1372459\ttotal: 1.05s\tremaining: 688ms\n"
     ]
    },
    {
     "name": "stdout",
     "output_type": "stream",
     "text": [
      "604:\tlearn: 0.1370516\ttotal: 1.05s\tremaining: 686ms\n",
      "605:\tlearn: 0.1368434\ttotal: 1.05s\tremaining: 684ms\n",
      "606:\tlearn: 0.1366303\ttotal: 1.05s\tremaining: 682ms\n",
      "607:\tlearn: 0.1364778\ttotal: 1.05s\tremaining: 681ms\n",
      "608:\tlearn: 0.1362189\ttotal: 1.06s\tremaining: 679ms\n",
      "609:\tlearn: 0.1360325\ttotal: 1.06s\tremaining: 677ms\n",
      "610:\tlearn: 0.1358415\ttotal: 1.06s\tremaining: 675ms\n",
      "611:\tlearn: 0.1357145\ttotal: 1.06s\tremaining: 673ms\n",
      "612:\tlearn: 0.1355270\ttotal: 1.06s\tremaining: 671ms\n",
      "613:\tlearn: 0.1354108\ttotal: 1.06s\tremaining: 669ms\n",
      "614:\tlearn: 0.1352427\ttotal: 1.06s\tremaining: 667ms\n",
      "615:\tlearn: 0.1350732\ttotal: 1.07s\tremaining: 665ms\n",
      "616:\tlearn: 0.1348198\ttotal: 1.07s\tremaining: 663ms\n",
      "617:\tlearn: 0.1347185\ttotal: 1.07s\tremaining: 661ms\n",
      "618:\tlearn: 0.1345141\ttotal: 1.07s\tremaining: 659ms\n",
      "619:\tlearn: 0.1343810\ttotal: 1.07s\tremaining: 657ms\n",
      "620:\tlearn: 0.1342470\ttotal: 1.07s\tremaining: 655ms\n",
      "621:\tlearn: 0.1339934\ttotal: 1.07s\tremaining: 653ms\n",
      "622:\tlearn: 0.1337190\ttotal: 1.07s\tremaining: 651ms\n",
      "623:\tlearn: 0.1335858\ttotal: 1.08s\tremaining: 649ms\n",
      "624:\tlearn: 0.1334117\ttotal: 1.08s\tremaining: 647ms\n",
      "625:\tlearn: 0.1330977\ttotal: 1.08s\tremaining: 645ms\n",
      "626:\tlearn: 0.1329804\ttotal: 1.08s\tremaining: 643ms\n",
      "627:\tlearn: 0.1327238\ttotal: 1.08s\tremaining: 641ms\n",
      "628:\tlearn: 0.1324391\ttotal: 1.08s\tremaining: 639ms\n",
      "629:\tlearn: 0.1321918\ttotal: 1.08s\tremaining: 637ms\n",
      "630:\tlearn: 0.1320149\ttotal: 1.08s\tremaining: 635ms\n",
      "631:\tlearn: 0.1318255\ttotal: 1.09s\tremaining: 633ms\n",
      "632:\tlearn: 0.1318004\ttotal: 1.09s\tremaining: 631ms\n",
      "633:\tlearn: 0.1316067\ttotal: 1.09s\tremaining: 629ms\n",
      "634:\tlearn: 0.1314225\ttotal: 1.09s\tremaining: 627ms\n",
      "635:\tlearn: 0.1312251\ttotal: 1.09s\tremaining: 625ms\n",
      "636:\tlearn: 0.1310508\ttotal: 1.09s\tremaining: 624ms\n",
      "637:\tlearn: 0.1308640\ttotal: 1.09s\tremaining: 622ms\n",
      "638:\tlearn: 0.1307065\ttotal: 1.1s\tremaining: 620ms\n",
      "639:\tlearn: 0.1305417\ttotal: 1.1s\tremaining: 618ms\n",
      "640:\tlearn: 0.1303177\ttotal: 1.1s\tremaining: 616ms\n",
      "641:\tlearn: 0.1301817\ttotal: 1.1s\tremaining: 614ms\n",
      "642:\tlearn: 0.1300018\ttotal: 1.1s\tremaining: 612ms\n",
      "643:\tlearn: 0.1298376\ttotal: 1.1s\tremaining: 610ms\n",
      "644:\tlearn: 0.1296199\ttotal: 1.1s\tremaining: 608ms\n",
      "645:\tlearn: 0.1292299\ttotal: 1.1s\tremaining: 606ms\n",
      "646:\tlearn: 0.1291231\ttotal: 1.11s\tremaining: 604ms\n",
      "647:\tlearn: 0.1289241\ttotal: 1.11s\tremaining: 602ms\n",
      "648:\tlearn: 0.1288004\ttotal: 1.11s\tremaining: 600ms\n",
      "649:\tlearn: 0.1285760\ttotal: 1.11s\tremaining: 598ms\n",
      "650:\tlearn: 0.1283841\ttotal: 1.11s\tremaining: 596ms\n",
      "651:\tlearn: 0.1282627\ttotal: 1.11s\tremaining: 594ms\n",
      "652:\tlearn: 0.1280286\ttotal: 1.11s\tremaining: 592ms\n",
      "653:\tlearn: 0.1278578\ttotal: 1.11s\tremaining: 590ms\n",
      "654:\tlearn: 0.1276648\ttotal: 1.12s\tremaining: 588ms\n",
      "655:\tlearn: 0.1274682\ttotal: 1.12s\tremaining: 586ms\n",
      "656:\tlearn: 0.1273791\ttotal: 1.12s\tremaining: 584ms\n",
      "657:\tlearn: 0.1271595\ttotal: 1.12s\tremaining: 582ms\n",
      "658:\tlearn: 0.1269558\ttotal: 1.12s\tremaining: 580ms\n",
      "659:\tlearn: 0.1267700\ttotal: 1.12s\tremaining: 578ms\n",
      "660:\tlearn: 0.1265667\ttotal: 1.12s\tremaining: 576ms\n",
      "661:\tlearn: 0.1263919\ttotal: 1.13s\tremaining: 574ms\n",
      "662:\tlearn: 0.1262021\ttotal: 1.13s\tremaining: 573ms\n",
      "663:\tlearn: 0.1260428\ttotal: 1.13s\tremaining: 571ms\n",
      "664:\tlearn: 0.1258565\ttotal: 1.13s\tremaining: 569ms\n",
      "665:\tlearn: 0.1257267\ttotal: 1.13s\tremaining: 567ms\n",
      "666:\tlearn: 0.1254584\ttotal: 1.13s\tremaining: 565ms\n",
      "667:\tlearn: 0.1253427\ttotal: 1.13s\tremaining: 563ms\n",
      "668:\tlearn: 0.1251462\ttotal: 1.13s\tremaining: 561ms\n",
      "669:\tlearn: 0.1250089\ttotal: 1.13s\tremaining: 559ms\n",
      "670:\tlearn: 0.1248968\ttotal: 1.14s\tremaining: 557ms\n",
      "671:\tlearn: 0.1246990\ttotal: 1.14s\tremaining: 555ms\n",
      "672:\tlearn: 0.1245285\ttotal: 1.14s\tremaining: 553ms\n",
      "673:\tlearn: 0.1244105\ttotal: 1.14s\tremaining: 551ms\n",
      "674:\tlearn: 0.1241951\ttotal: 1.14s\tremaining: 549ms\n",
      "675:\tlearn: 0.1240268\ttotal: 1.14s\tremaining: 547ms\n",
      "676:\tlearn: 0.1238440\ttotal: 1.14s\tremaining: 545ms\n",
      "677:\tlearn: 0.1237494\ttotal: 1.14s\tremaining: 543ms\n",
      "678:\tlearn: 0.1235073\ttotal: 1.15s\tremaining: 541ms\n",
      "679:\tlearn: 0.1234060\ttotal: 1.15s\tremaining: 540ms\n",
      "680:\tlearn: 0.1232364\ttotal: 1.15s\tremaining: 538ms\n",
      "681:\tlearn: 0.1230607\ttotal: 1.15s\tremaining: 536ms\n",
      "682:\tlearn: 0.1228662\ttotal: 1.15s\tremaining: 534ms\n",
      "683:\tlearn: 0.1226868\ttotal: 1.15s\tremaining: 532ms\n",
      "684:\tlearn: 0.1224946\ttotal: 1.15s\tremaining: 530ms\n",
      "685:\tlearn: 0.1222650\ttotal: 1.15s\tremaining: 528ms\n",
      "686:\tlearn: 0.1221619\ttotal: 1.16s\tremaining: 526ms\n",
      "687:\tlearn: 0.1220469\ttotal: 1.16s\tremaining: 525ms\n",
      "688:\tlearn: 0.1218373\ttotal: 1.16s\tremaining: 523ms\n",
      "689:\tlearn: 0.1216873\ttotal: 1.16s\tremaining: 521ms\n",
      "690:\tlearn: 0.1214919\ttotal: 1.16s\tremaining: 519ms\n",
      "691:\tlearn: 0.1212827\ttotal: 1.16s\tremaining: 517ms\n",
      "692:\tlearn: 0.1210592\ttotal: 1.16s\tremaining: 515ms\n",
      "693:\tlearn: 0.1208107\ttotal: 1.16s\tremaining: 513ms\n",
      "694:\tlearn: 0.1206582\ttotal: 1.16s\tremaining: 511ms\n",
      "695:\tlearn: 0.1205412\ttotal: 1.17s\tremaining: 509ms\n",
      "696:\tlearn: 0.1203823\ttotal: 1.17s\tremaining: 507ms\n",
      "697:\tlearn: 0.1202368\ttotal: 1.17s\tremaining: 506ms\n",
      "698:\tlearn: 0.1201180\ttotal: 1.17s\tremaining: 504ms\n",
      "699:\tlearn: 0.1198888\ttotal: 1.17s\tremaining: 502ms\n",
      "700:\tlearn: 0.1197628\ttotal: 1.17s\tremaining: 500ms\n",
      "701:\tlearn: 0.1196036\ttotal: 1.17s\tremaining: 498ms\n",
      "702:\tlearn: 0.1194579\ttotal: 1.17s\tremaining: 496ms\n",
      "703:\tlearn: 0.1192800\ttotal: 1.18s\tremaining: 494ms\n",
      "704:\tlearn: 0.1191935\ttotal: 1.18s\tremaining: 492ms\n",
      "705:\tlearn: 0.1190114\ttotal: 1.18s\tremaining: 490ms\n",
      "706:\tlearn: 0.1189017\ttotal: 1.18s\tremaining: 488ms\n",
      "707:\tlearn: 0.1187185\ttotal: 1.18s\tremaining: 486ms\n",
      "708:\tlearn: 0.1184873\ttotal: 1.18s\tremaining: 484ms\n",
      "709:\tlearn: 0.1183143\ttotal: 1.18s\tremaining: 483ms\n",
      "710:\tlearn: 0.1182566\ttotal: 1.18s\tremaining: 481ms\n",
      "711:\tlearn: 0.1182002\ttotal: 1.18s\tremaining: 479ms\n",
      "712:\tlearn: 0.1179844\ttotal: 1.18s\tremaining: 477ms\n",
      "713:\tlearn: 0.1178425\ttotal: 1.19s\tremaining: 475ms\n",
      "714:\tlearn: 0.1176854\ttotal: 1.19s\tremaining: 473ms\n",
      "715:\tlearn: 0.1175386\ttotal: 1.19s\tremaining: 471ms\n",
      "716:\tlearn: 0.1174584\ttotal: 1.19s\tremaining: 469ms\n",
      "717:\tlearn: 0.1173646\ttotal: 1.19s\tremaining: 467ms\n",
      "718:\tlearn: 0.1171095\ttotal: 1.19s\tremaining: 465ms\n",
      "719:\tlearn: 0.1169109\ttotal: 1.19s\tremaining: 463ms\n",
      "720:\tlearn: 0.1168328\ttotal: 1.19s\tremaining: 461ms\n",
      "721:\tlearn: 0.1167782\ttotal: 1.19s\tremaining: 459ms\n",
      "722:\tlearn: 0.1165633\ttotal: 1.19s\tremaining: 457ms\n",
      "723:\tlearn: 0.1163647\ttotal: 1.2s\tremaining: 456ms\n",
      "724:\tlearn: 0.1162109\ttotal: 1.2s\tremaining: 454ms\n",
      "725:\tlearn: 0.1161073\ttotal: 1.2s\tremaining: 452ms\n",
      "726:\tlearn: 0.1160319\ttotal: 1.2s\tremaining: 450ms\n",
      "727:\tlearn: 0.1158597\ttotal: 1.2s\tremaining: 448ms\n",
      "728:\tlearn: 0.1157194\ttotal: 1.2s\tremaining: 446ms\n",
      "729:\tlearn: 0.1155558\ttotal: 1.2s\tremaining: 444ms\n",
      "730:\tlearn: 0.1155312\ttotal: 1.2s\tremaining: 442ms\n",
      "731:\tlearn: 0.1153497\ttotal: 1.2s\tremaining: 440ms\n",
      "732:\tlearn: 0.1152326\ttotal: 1.2s\tremaining: 438ms\n",
      "733:\tlearn: 0.1150657\ttotal: 1.2s\tremaining: 436ms\n",
      "734:\tlearn: 0.1149483\ttotal: 1.21s\tremaining: 435ms\n",
      "735:\tlearn: 0.1148361\ttotal: 1.21s\tremaining: 433ms\n",
      "736:\tlearn: 0.1146047\ttotal: 1.21s\tremaining: 431ms\n",
      "737:\tlearn: 0.1144206\ttotal: 1.21s\tremaining: 429ms\n",
      "738:\tlearn: 0.1143102\ttotal: 1.21s\tremaining: 427ms\n",
      "739:\tlearn: 0.1141230\ttotal: 1.21s\tremaining: 425ms\n",
      "740:\tlearn: 0.1140060\ttotal: 1.21s\tremaining: 423ms\n",
      "741:\tlearn: 0.1138524\ttotal: 1.21s\tremaining: 421ms\n",
      "742:\tlearn: 0.1137396\ttotal: 1.21s\tremaining: 420ms\n",
      "743:\tlearn: 0.1135651\ttotal: 1.21s\tremaining: 418ms\n",
      "744:\tlearn: 0.1133762\ttotal: 1.22s\tremaining: 416ms\n",
      "745:\tlearn: 0.1131917\ttotal: 1.22s\tremaining: 414ms\n",
      "746:\tlearn: 0.1130855\ttotal: 1.22s\tremaining: 412ms\n",
      "747:\tlearn: 0.1130107\ttotal: 1.22s\tremaining: 411ms\n",
      "748:\tlearn: 0.1128584\ttotal: 1.22s\tremaining: 409ms\n",
      "749:\tlearn: 0.1128299\ttotal: 1.22s\tremaining: 407ms\n",
      "750:\tlearn: 0.1127424\ttotal: 1.22s\tremaining: 405ms\n",
      "751:\tlearn: 0.1125825\ttotal: 1.22s\tremaining: 403ms\n",
      "752:\tlearn: 0.1123794\ttotal: 1.22s\tremaining: 401ms\n",
      "753:\tlearn: 0.1122182\ttotal: 1.22s\tremaining: 399ms\n",
      "754:\tlearn: 0.1120229\ttotal: 1.23s\tremaining: 398ms\n",
      "755:\tlearn: 0.1118766\ttotal: 1.23s\tremaining: 396ms\n",
      "756:\tlearn: 0.1117464\ttotal: 1.23s\tremaining: 394ms\n",
      "757:\tlearn: 0.1116350\ttotal: 1.23s\tremaining: 392ms\n",
      "758:\tlearn: 0.1114819\ttotal: 1.23s\tremaining: 390ms\n",
      "759:\tlearn: 0.1113609\ttotal: 1.23s\tremaining: 389ms\n",
      "760:\tlearn: 0.1111480\ttotal: 1.23s\tremaining: 387ms\n",
      "761:\tlearn: 0.1109359\ttotal: 1.23s\tremaining: 385ms\n",
      "762:\tlearn: 0.1107877\ttotal: 1.24s\tremaining: 384ms\n",
      "763:\tlearn: 0.1107023\ttotal: 1.24s\tremaining: 382ms\n",
      "764:\tlearn: 0.1105351\ttotal: 1.24s\tremaining: 380ms\n",
      "765:\tlearn: 0.1104380\ttotal: 1.24s\tremaining: 379ms\n",
      "766:\tlearn: 0.1102432\ttotal: 1.24s\tremaining: 377ms\n",
      "767:\tlearn: 0.1100737\ttotal: 1.24s\tremaining: 375ms\n",
      "768:\tlearn: 0.1099132\ttotal: 1.24s\tremaining: 374ms\n",
      "769:\tlearn: 0.1097795\ttotal: 1.25s\tremaining: 372ms\n",
      "770:\tlearn: 0.1096580\ttotal: 1.25s\tremaining: 370ms\n",
      "771:\tlearn: 0.1095457\ttotal: 1.25s\tremaining: 369ms\n",
      "772:\tlearn: 0.1094066\ttotal: 1.25s\tremaining: 367ms\n",
      "773:\tlearn: 0.1092323\ttotal: 1.25s\tremaining: 365ms\n",
      "774:\tlearn: 0.1090385\ttotal: 1.25s\tremaining: 363ms\n",
      "775:\tlearn: 0.1089319\ttotal: 1.25s\tremaining: 362ms\n",
      "776:\tlearn: 0.1088183\ttotal: 1.25s\tremaining: 360ms\n",
      "777:\tlearn: 0.1086184\ttotal: 1.25s\tremaining: 358ms\n",
      "778:\tlearn: 0.1084873\ttotal: 1.26s\tremaining: 357ms\n",
      "779:\tlearn: 0.1083266\ttotal: 1.26s\tremaining: 355ms\n",
      "780:\tlearn: 0.1082542\ttotal: 1.26s\tremaining: 353ms\n",
      "781:\tlearn: 0.1080532\ttotal: 1.26s\tremaining: 352ms\n",
      "782:\tlearn: 0.1078782\ttotal: 1.26s\tremaining: 350ms\n",
      "783:\tlearn: 0.1077799\ttotal: 1.26s\tremaining: 348ms\n",
      "784:\tlearn: 0.1076267\ttotal: 1.26s\tremaining: 347ms\n",
      "785:\tlearn: 0.1074743\ttotal: 1.27s\tremaining: 345ms\n",
      "786:\tlearn: 0.1072975\ttotal: 1.27s\tremaining: 343ms\n",
      "787:\tlearn: 0.1071778\ttotal: 1.27s\tremaining: 341ms\n",
      "788:\tlearn: 0.1070632\ttotal: 1.27s\tremaining: 340ms\n",
      "789:\tlearn: 0.1069599\ttotal: 1.27s\tremaining: 338ms\n",
      "790:\tlearn: 0.1068035\ttotal: 1.27s\tremaining: 336ms\n",
      "791:\tlearn: 0.1066360\ttotal: 1.27s\tremaining: 334ms\n",
      "792:\tlearn: 0.1065519\ttotal: 1.27s\tremaining: 333ms\n",
      "793:\tlearn: 0.1063928\ttotal: 1.27s\tremaining: 331ms\n",
      "794:\tlearn: 0.1063131\ttotal: 1.28s\tremaining: 329ms\n",
      "795:\tlearn: 0.1061920\ttotal: 1.28s\tremaining: 328ms\n",
      "796:\tlearn: 0.1059843\ttotal: 1.28s\tremaining: 326ms\n",
      "797:\tlearn: 0.1057750\ttotal: 1.28s\tremaining: 324ms\n",
      "798:\tlearn: 0.1055842\ttotal: 1.28s\tremaining: 322ms\n",
      "799:\tlearn: 0.1054495\ttotal: 1.28s\tremaining: 321ms\n",
      "800:\tlearn: 0.1053341\ttotal: 1.28s\tremaining: 319ms\n",
      "801:\tlearn: 0.1052078\ttotal: 1.28s\tremaining: 317ms\n",
      "802:\tlearn: 0.1050356\ttotal: 1.29s\tremaining: 316ms\n",
      "803:\tlearn: 0.1049225\ttotal: 1.29s\tremaining: 314ms\n",
      "804:\tlearn: 0.1048110\ttotal: 1.29s\tremaining: 312ms\n",
      "805:\tlearn: 0.1046903\ttotal: 1.29s\tremaining: 310ms\n",
      "806:\tlearn: 0.1046046\ttotal: 1.29s\tremaining: 309ms\n",
      "807:\tlearn: 0.1045312\ttotal: 1.29s\tremaining: 307ms\n",
      "808:\tlearn: 0.1042838\ttotal: 1.29s\tremaining: 305ms\n",
      "809:\tlearn: 0.1041776\ttotal: 1.29s\tremaining: 303ms\n",
      "810:\tlearn: 0.1040269\ttotal: 1.29s\tremaining: 302ms\n",
      "811:\tlearn: 0.1038425\ttotal: 1.29s\tremaining: 300ms\n",
      "812:\tlearn: 0.1037189\ttotal: 1.3s\tremaining: 298ms\n",
      "813:\tlearn: 0.1036709\ttotal: 1.3s\tremaining: 297ms\n",
      "814:\tlearn: 0.1035605\ttotal: 1.3s\tremaining: 295ms\n",
      "815:\tlearn: 0.1034013\ttotal: 1.3s\tremaining: 293ms\n",
      "816:\tlearn: 0.1032290\ttotal: 1.3s\tremaining: 292ms\n",
      "817:\tlearn: 0.1030535\ttotal: 1.3s\tremaining: 290ms\n",
      "818:\tlearn: 0.1029741\ttotal: 1.3s\tremaining: 288ms\n",
      "819:\tlearn: 0.1028579\ttotal: 1.3s\tremaining: 286ms\n",
      "820:\tlearn: 0.1027744\ttotal: 1.3s\tremaining: 285ms\n",
      "821:\tlearn: 0.1026271\ttotal: 1.31s\tremaining: 283ms\n",
      "822:\tlearn: 0.1024395\ttotal: 1.31s\tremaining: 281ms\n",
      "823:\tlearn: 0.1023149\ttotal: 1.31s\tremaining: 280ms\n",
      "824:\tlearn: 0.1021504\ttotal: 1.31s\tremaining: 278ms\n",
      "825:\tlearn: 0.1020931\ttotal: 1.31s\tremaining: 276ms\n",
      "826:\tlearn: 0.1019536\ttotal: 1.31s\tremaining: 275ms\n",
      "827:\tlearn: 0.1018765\ttotal: 1.31s\tremaining: 273ms\n",
      "828:\tlearn: 0.1017986\ttotal: 1.31s\tremaining: 271ms\n",
      "829:\tlearn: 0.1016778\ttotal: 1.31s\tremaining: 269ms\n",
      "830:\tlearn: 0.1015681\ttotal: 1.32s\tremaining: 268ms\n",
      "831:\tlearn: 0.1014727\ttotal: 1.32s\tremaining: 266ms\n",
      "832:\tlearn: 0.1013182\ttotal: 1.32s\tremaining: 264ms\n",
      "833:\tlearn: 0.1011836\ttotal: 1.32s\tremaining: 263ms\n",
      "834:\tlearn: 0.1010964\ttotal: 1.32s\tremaining: 261ms\n",
      "835:\tlearn: 0.1009571\ttotal: 1.32s\tremaining: 259ms\n",
      "836:\tlearn: 0.1008350\ttotal: 1.32s\tremaining: 258ms\n",
      "837:\tlearn: 0.1006946\ttotal: 1.32s\tremaining: 256ms\n",
      "838:\tlearn: 0.1006029\ttotal: 1.33s\tremaining: 255ms\n",
      "839:\tlearn: 0.1004590\ttotal: 1.33s\tremaining: 253ms\n",
      "840:\tlearn: 0.1003417\ttotal: 1.33s\tremaining: 251ms\n",
      "841:\tlearn: 0.1002206\ttotal: 1.33s\tremaining: 250ms\n",
      "842:\tlearn: 0.1000911\ttotal: 1.33s\tremaining: 248ms\n",
      "843:\tlearn: 0.1000182\ttotal: 1.33s\tremaining: 246ms\n",
      "844:\tlearn: 0.0998374\ttotal: 1.33s\tremaining: 245ms\n",
      "845:\tlearn: 0.0997329\ttotal: 1.33s\tremaining: 243ms\n",
      "846:\tlearn: 0.0996664\ttotal: 1.33s\tremaining: 241ms\n",
      "847:\tlearn: 0.0995294\ttotal: 1.34s\tremaining: 240ms\n",
      "848:\tlearn: 0.0994526\ttotal: 1.34s\tremaining: 238ms\n",
      "849:\tlearn: 0.0992825\ttotal: 1.34s\tremaining: 236ms\n",
      "850:\tlearn: 0.0992146\ttotal: 1.34s\tremaining: 235ms\n",
      "851:\tlearn: 0.0991044\ttotal: 1.34s\tremaining: 233ms\n",
      "852:\tlearn: 0.0989186\ttotal: 1.34s\tremaining: 231ms\n",
      "853:\tlearn: 0.0988256\ttotal: 1.34s\tremaining: 230ms\n",
      "854:\tlearn: 0.0986891\ttotal: 1.34s\tremaining: 228ms\n",
      "855:\tlearn: 0.0985863\ttotal: 1.34s\tremaining: 226ms\n",
      "856:\tlearn: 0.0985240\ttotal: 1.35s\tremaining: 225ms\n",
      "857:\tlearn: 0.0984268\ttotal: 1.35s\tremaining: 223ms\n",
      "858:\tlearn: 0.0983065\ttotal: 1.35s\tremaining: 221ms\n",
      "859:\tlearn: 0.0982239\ttotal: 1.35s\tremaining: 220ms\n",
      "860:\tlearn: 0.0980467\ttotal: 1.35s\tremaining: 218ms\n",
      "861:\tlearn: 0.0979249\ttotal: 1.35s\tremaining: 217ms\n",
      "862:\tlearn: 0.0978460\ttotal: 1.35s\tremaining: 215ms\n",
      "863:\tlearn: 0.0977027\ttotal: 1.35s\tremaining: 213ms\n",
      "864:\tlearn: 0.0975192\ttotal: 1.35s\tremaining: 212ms\n",
      "865:\tlearn: 0.0973898\ttotal: 1.36s\tremaining: 210ms\n",
      "866:\tlearn: 0.0972719\ttotal: 1.36s\tremaining: 208ms\n",
      "867:\tlearn: 0.0971355\ttotal: 1.36s\tremaining: 207ms\n",
      "868:\tlearn: 0.0970349\ttotal: 1.36s\tremaining: 205ms\n",
      "869:\tlearn: 0.0969233\ttotal: 1.36s\tremaining: 203ms\n",
      "870:\tlearn: 0.0968270\ttotal: 1.36s\tremaining: 202ms\n",
      "871:\tlearn: 0.0967193\ttotal: 1.36s\tremaining: 200ms\n",
      "872:\tlearn: 0.0966087\ttotal: 1.36s\tremaining: 198ms\n",
      "873:\tlearn: 0.0965127\ttotal: 1.36s\tremaining: 197ms\n",
      "874:\tlearn: 0.0963527\ttotal: 1.37s\tremaining: 195ms\n",
      "875:\tlearn: 0.0962662\ttotal: 1.37s\tremaining: 194ms\n",
      "876:\tlearn: 0.0961288\ttotal: 1.37s\tremaining: 192ms\n",
      "877:\tlearn: 0.0959592\ttotal: 1.37s\tremaining: 190ms\n",
      "878:\tlearn: 0.0958327\ttotal: 1.37s\tremaining: 189ms\n",
      "879:\tlearn: 0.0957555\ttotal: 1.37s\tremaining: 187ms\n",
      "880:\tlearn: 0.0956348\ttotal: 1.37s\tremaining: 186ms\n",
      "881:\tlearn: 0.0954621\ttotal: 1.37s\tremaining: 184ms\n",
      "882:\tlearn: 0.0953818\ttotal: 1.38s\tremaining: 182ms\n",
      "883:\tlearn: 0.0952645\ttotal: 1.38s\tremaining: 181ms\n",
      "884:\tlearn: 0.0951479\ttotal: 1.38s\tremaining: 179ms\n",
      "885:\tlearn: 0.0950696\ttotal: 1.38s\tremaining: 177ms\n",
      "886:\tlearn: 0.0949906\ttotal: 1.38s\tremaining: 176ms\n",
      "887:\tlearn: 0.0948959\ttotal: 1.38s\tremaining: 174ms\n",
      "888:\tlearn: 0.0947705\ttotal: 1.38s\tremaining: 173ms\n",
      "889:\tlearn: 0.0945743\ttotal: 1.38s\tremaining: 171ms\n",
      "890:\tlearn: 0.0944942\ttotal: 1.38s\tremaining: 169ms\n",
      "891:\tlearn: 0.0944190\ttotal: 1.39s\tremaining: 168ms\n",
      "892:\tlearn: 0.0942817\ttotal: 1.39s\tremaining: 166ms\n",
      "893:\tlearn: 0.0941106\ttotal: 1.39s\tremaining: 165ms\n",
      "894:\tlearn: 0.0939940\ttotal: 1.39s\tremaining: 163ms\n",
      "895:\tlearn: 0.0938514\ttotal: 1.39s\tremaining: 161ms\n",
      "896:\tlearn: 0.0936839\ttotal: 1.39s\tremaining: 160ms\n",
      "897:\tlearn: 0.0935208\ttotal: 1.39s\tremaining: 158ms\n",
      "898:\tlearn: 0.0934516\ttotal: 1.39s\tremaining: 156ms\n",
      "899:\tlearn: 0.0932866\ttotal: 1.39s\tremaining: 155ms\n",
      "900:\tlearn: 0.0931384\ttotal: 1.4s\tremaining: 153ms\n",
      "901:\tlearn: 0.0930047\ttotal: 1.4s\tremaining: 152ms\n",
      "902:\tlearn: 0.0928840\ttotal: 1.4s\tremaining: 150ms\n",
      "903:\tlearn: 0.0927813\ttotal: 1.4s\tremaining: 149ms\n",
      "904:\tlearn: 0.0926831\ttotal: 1.4s\tremaining: 147ms\n",
      "905:\tlearn: 0.0925674\ttotal: 1.4s\tremaining: 145ms\n",
      "906:\tlearn: 0.0924791\ttotal: 1.4s\tremaining: 144ms\n",
      "907:\tlearn: 0.0924233\ttotal: 1.4s\tremaining: 142ms\n",
      "908:\tlearn: 0.0922712\ttotal: 1.4s\tremaining: 141ms\n",
      "909:\tlearn: 0.0921909\ttotal: 1.41s\tremaining: 139ms\n",
      "910:\tlearn: 0.0919819\ttotal: 1.41s\tremaining: 137ms\n",
      "911:\tlearn: 0.0918645\ttotal: 1.41s\tremaining: 136ms\n",
      "912:\tlearn: 0.0917338\ttotal: 1.41s\tremaining: 134ms\n",
      "913:\tlearn: 0.0915335\ttotal: 1.41s\tremaining: 133ms\n",
      "914:\tlearn: 0.0913581\ttotal: 1.41s\tremaining: 131ms\n"
     ]
    },
    {
     "name": "stdout",
     "output_type": "stream",
     "text": [
      "915:\tlearn: 0.0911684\ttotal: 1.41s\tremaining: 129ms\n",
      "916:\tlearn: 0.0910737\ttotal: 1.41s\tremaining: 128ms\n",
      "917:\tlearn: 0.0909668\ttotal: 1.41s\tremaining: 126ms\n",
      "918:\tlearn: 0.0908507\ttotal: 1.42s\tremaining: 125ms\n",
      "919:\tlearn: 0.0907448\ttotal: 1.42s\tremaining: 123ms\n",
      "920:\tlearn: 0.0905628\ttotal: 1.42s\tremaining: 122ms\n",
      "921:\tlearn: 0.0904881\ttotal: 1.42s\tremaining: 120ms\n",
      "922:\tlearn: 0.0903457\ttotal: 1.42s\tremaining: 118ms\n",
      "923:\tlearn: 0.0902560\ttotal: 1.42s\tremaining: 117ms\n",
      "924:\tlearn: 0.0901460\ttotal: 1.42s\tremaining: 115ms\n",
      "925:\tlearn: 0.0900855\ttotal: 1.42s\tremaining: 114ms\n",
      "926:\tlearn: 0.0900167\ttotal: 1.43s\tremaining: 112ms\n",
      "927:\tlearn: 0.0899072\ttotal: 1.43s\tremaining: 111ms\n",
      "928:\tlearn: 0.0897467\ttotal: 1.43s\tremaining: 109ms\n",
      "929:\tlearn: 0.0896661\ttotal: 1.43s\tremaining: 108ms\n",
      "930:\tlearn: 0.0896218\ttotal: 1.43s\tremaining: 106ms\n",
      "931:\tlearn: 0.0894957\ttotal: 1.43s\tremaining: 104ms\n",
      "932:\tlearn: 0.0893929\ttotal: 1.43s\tremaining: 103ms\n",
      "933:\tlearn: 0.0893252\ttotal: 1.43s\tremaining: 101ms\n",
      "934:\tlearn: 0.0892085\ttotal: 1.44s\tremaining: 99.8ms\n",
      "935:\tlearn: 0.0891551\ttotal: 1.44s\tremaining: 98.3ms\n",
      "936:\tlearn: 0.0890819\ttotal: 1.44s\tremaining: 96.7ms\n",
      "937:\tlearn: 0.0888893\ttotal: 1.44s\tremaining: 95.2ms\n",
      "938:\tlearn: 0.0888040\ttotal: 1.44s\tremaining: 93.6ms\n",
      "939:\tlearn: 0.0887431\ttotal: 1.44s\tremaining: 92ms\n",
      "940:\tlearn: 0.0886518\ttotal: 1.44s\tremaining: 90.5ms\n",
      "941:\tlearn: 0.0884701\ttotal: 1.44s\tremaining: 88.9ms\n",
      "942:\tlearn: 0.0884054\ttotal: 1.45s\tremaining: 87.4ms\n",
      "943:\tlearn: 0.0883235\ttotal: 1.45s\tremaining: 85.8ms\n",
      "944:\tlearn: 0.0881869\ttotal: 1.45s\tremaining: 84.3ms\n",
      "945:\tlearn: 0.0880475\ttotal: 1.45s\tremaining: 82.8ms\n",
      "946:\tlearn: 0.0878977\ttotal: 1.45s\tremaining: 81.2ms\n",
      "947:\tlearn: 0.0877708\ttotal: 1.45s\tremaining: 79.7ms\n",
      "948:\tlearn: 0.0877310\ttotal: 1.45s\tremaining: 78.2ms\n",
      "949:\tlearn: 0.0875733\ttotal: 1.46s\tremaining: 76.6ms\n",
      "950:\tlearn: 0.0874890\ttotal: 1.46s\tremaining: 75.1ms\n",
      "951:\tlearn: 0.0874309\ttotal: 1.46s\tremaining: 73.5ms\n",
      "952:\tlearn: 0.0873742\ttotal: 1.46s\tremaining: 72ms\n",
      "953:\tlearn: 0.0873111\ttotal: 1.46s\tremaining: 70.4ms\n",
      "954:\tlearn: 0.0871750\ttotal: 1.46s\tremaining: 68.9ms\n",
      "955:\tlearn: 0.0870047\ttotal: 1.46s\tremaining: 67.3ms\n",
      "956:\tlearn: 0.0869414\ttotal: 1.46s\tremaining: 65.8ms\n",
      "957:\tlearn: 0.0868600\ttotal: 1.47s\tremaining: 64.3ms\n",
      "958:\tlearn: 0.0867818\ttotal: 1.47s\tremaining: 62.7ms\n",
      "959:\tlearn: 0.0866856\ttotal: 1.47s\tremaining: 61.2ms\n",
      "960:\tlearn: 0.0866364\ttotal: 1.47s\tremaining: 59.6ms\n",
      "961:\tlearn: 0.0864650\ttotal: 1.47s\tremaining: 58.1ms\n",
      "962:\tlearn: 0.0863777\ttotal: 1.47s\tremaining: 56.5ms\n",
      "963:\tlearn: 0.0862425\ttotal: 1.47s\tremaining: 55ms\n",
      "964:\tlearn: 0.0861947\ttotal: 1.47s\tremaining: 53.5ms\n",
      "965:\tlearn: 0.0861378\ttotal: 1.48s\tremaining: 51.9ms\n",
      "966:\tlearn: 0.0860849\ttotal: 1.48s\tremaining: 50.4ms\n",
      "967:\tlearn: 0.0859654\ttotal: 1.48s\tremaining: 48.9ms\n",
      "968:\tlearn: 0.0859178\ttotal: 1.48s\tremaining: 47.3ms\n",
      "969:\tlearn: 0.0857670\ttotal: 1.48s\tremaining: 45.8ms\n",
      "970:\tlearn: 0.0856694\ttotal: 1.48s\tremaining: 44.2ms\n",
      "971:\tlearn: 0.0855149\ttotal: 1.48s\tremaining: 42.7ms\n",
      "972:\tlearn: 0.0854809\ttotal: 1.48s\tremaining: 41.2ms\n",
      "973:\tlearn: 0.0853760\ttotal: 1.48s\tremaining: 39.6ms\n",
      "974:\tlearn: 0.0852508\ttotal: 1.49s\tremaining: 38.1ms\n",
      "975:\tlearn: 0.0851904\ttotal: 1.49s\tremaining: 36.6ms\n",
      "976:\tlearn: 0.0850917\ttotal: 1.49s\tremaining: 35ms\n",
      "977:\tlearn: 0.0850074\ttotal: 1.49s\tremaining: 33.5ms\n",
      "978:\tlearn: 0.0849141\ttotal: 1.49s\tremaining: 32ms\n",
      "979:\tlearn: 0.0848698\ttotal: 1.49s\tremaining: 30.4ms\n",
      "980:\tlearn: 0.0847693\ttotal: 1.49s\tremaining: 28.9ms\n",
      "981:\tlearn: 0.0846991\ttotal: 1.49s\tremaining: 27.4ms\n",
      "982:\tlearn: 0.0845933\ttotal: 1.5s\tremaining: 25.9ms\n",
      "983:\tlearn: 0.0845293\ttotal: 1.5s\tremaining: 24.3ms\n",
      "984:\tlearn: 0.0843935\ttotal: 1.5s\tremaining: 22.8ms\n",
      "985:\tlearn: 0.0843236\ttotal: 1.5s\tremaining: 21.3ms\n",
      "986:\tlearn: 0.0842434\ttotal: 1.5s\tremaining: 19.8ms\n",
      "987:\tlearn: 0.0841938\ttotal: 1.5s\tremaining: 18.2ms\n",
      "988:\tlearn: 0.0840449\ttotal: 1.5s\tremaining: 16.7ms\n",
      "989:\tlearn: 0.0839547\ttotal: 1.5s\tremaining: 15.2ms\n",
      "990:\tlearn: 0.0838957\ttotal: 1.5s\tremaining: 13.7ms\n",
      "991:\tlearn: 0.0837588\ttotal: 1.51s\tremaining: 12.1ms\n",
      "992:\tlearn: 0.0836517\ttotal: 1.51s\tremaining: 10.6ms\n",
      "993:\tlearn: 0.0836011\ttotal: 1.51s\tremaining: 9.11ms\n",
      "994:\tlearn: 0.0835116\ttotal: 1.51s\tremaining: 7.59ms\n",
      "995:\tlearn: 0.0834245\ttotal: 1.51s\tremaining: 6.07ms\n",
      "996:\tlearn: 0.0833694\ttotal: 1.51s\tremaining: 4.55ms\n",
      "997:\tlearn: 0.0832562\ttotal: 1.51s\tremaining: 3.03ms\n",
      "998:\tlearn: 0.0831884\ttotal: 1.51s\tremaining: 1.51ms\n",
      "999:\tlearn: 0.0830575\ttotal: 1.51s\tremaining: 0us\n"
     ]
    },
    {
     "data": {
      "text/plain": [
       "<catboost.core.CatBoostClassifier at 0x7f6d28067a60>"
      ]
     },
     "execution_count": 6,
     "metadata": {},
     "output_type": "execute_result"
    }
   ],
   "source": [
    "model.fit(x_train,y_train)"
   ]
  },
  {
   "cell_type": "code",
   "execution_count": 7,
   "id": "ef772292",
   "metadata": {},
   "outputs": [
    {
     "data": {
      "text/plain": [
       "0.7666666666666667"
      ]
     },
     "execution_count": 7,
     "metadata": {},
     "output_type": "execute_result"
    }
   ],
   "source": [
    "model.score(x_test,y_test)"
   ]
  },
  {
   "cell_type": "code",
   "execution_count": 127,
   "id": "7d351ac6",
   "metadata": {},
   "outputs": [
    {
     "data": {
      "application/vnd.jupyter.widget-view+json": {
       "model_id": "70750a08ef82465f8305b601b6634db1",
       "version_major": 2,
       "version_minor": 0
      },
      "text/plain": [
       "MetricVisualizer(layout=Layout(align_self='stretch', height='500px'))"
      ]
     },
     "metadata": {},
     "output_type": "display_data"
    },
    {
     "name": "stdout",
     "output_type": "stream",
     "text": [
      "0:\tlearn: 0.7679325\ttest: 0.6500000\tbest: 0.6500000 (0)\ttotal: 367us\tremaining: 36.4ms\n",
      "50:\tlearn: 0.8734177\ttest: 0.8000000\tbest: 0.8500000 (20)\ttotal: 14.6ms\tremaining: 14ms\n",
      "99:\tlearn: 0.8902954\ttest: 0.8000000\tbest: 0.8500000 (20)\ttotal: 23.5ms\tremaining: 0us\n",
      "\n",
      "bestTest = 0.85\n",
      "bestIteration = 20\n",
      "\n",
      "Shrink model to first 21 iterations.\n"
     ]
    }
   ],
   "source": [
    "#Let's tune the model and find its accuracy\n",
    "tuned_model = CatBoostClassifier(\n",
    "    loss_function=\"Logloss\",\n",
    "    per_float_feature_quantization='2:border_count=1024',\n",
    "    eval_metric=\"Accuracy\",\n",
    "    max_depth=1,\n",
    "    learning_rate=0.1,\n",
    "    iterations=100,\n",
    "    od_wait = 100\n",
    ")\n",
    "\n",
    "tuned_model.fit(x_train,y_train,\n",
    "               verbose=50,\n",
    "               eval_set=(x_test,y_test),\n",
    "               use_best_model=True,\n",
    "               plot=True);\n"
   ]
  },
  {
   "cell_type": "markdown",
   "id": "9727d389",
   "metadata": {},
   "source": [
    "#### As we can see above the besttest is 83.33% accuracy ,since our catboost model has 3% more accuracy than our RadomForestClassifier model lets consider this model and evaluate it further "
   ]
  },
  {
   "cell_type": "code",
   "execution_count": 93,
   "id": "0410e7f7",
   "metadata": {},
   "outputs": [
    {
     "data": {
      "application/vnd.jupyter.widget-view+json": {
       "model_id": "2100b1d8bdb64eb682423567e3eb6635",
       "version_major": 2,
       "version_minor": 0
      },
      "text/plain": [
       "MetricVisualizer(layout=Layout(align_self='stretch', height='500px'))"
      ]
     },
     "metadata": {},
     "output_type": "display_data"
    },
    {
     "name": "stdout",
     "output_type": "stream",
     "text": [
      "0:\ttest: 0.6428571\tbest: 0.6428571 (0)\ttotal: 337us\tremaining: 33.5ms\n",
      "50:\ttest: 0.8783482\tbest: 0.8922991 (23)\ttotal: 13.2ms\tremaining: 12.7ms\n",
      "99:\ttest: 0.8582589\tbest: 0.8922991 (23)\ttotal: 30.3ms\tremaining: 0us\n",
      "\n",
      "bestTest = 0.8922991071\n",
      "bestIteration = 23\n",
      "\n",
      "Shrink model to first 24 iterations.\n"
     ]
    }
   ],
   "source": [
    "#lets find it AUC score\n",
    "tuned_model = CatBoostClassifier(\n",
    "    loss_function=\"Logloss\",\n",
    "    per_float_feature_quantization='2:border_count=1024',\n",
    "    eval_metric=\"AUC\",\n",
    "    max_depth=1,\n",
    "    learning_rate=0.1,\n",
    "    iterations=100,\n",
    "    od_wait = 100\n",
    ")\n",
    "\n",
    "tuned_model.fit(x_train,y_train,\n",
    "               verbose=50,\n",
    "               eval_set=(x_test,y_test),\n",
    "               use_best_model=True,\n",
    "               plot=True);\n"
   ]
  },
  {
   "cell_type": "code",
   "execution_count": 114,
   "id": "b46a79e5",
   "metadata": {},
   "outputs": [
    {
     "name": "stdout",
     "output_type": "stream",
     "text": [
      "0:\tlearn: 0.7934783\ttest: 0.6521739\tbest: 0.6521739 (0)\ttotal: 299us\tremaining: 29.6ms\n",
      "50:\tlearn: 0.9072165\ttest: 0.7666667\tbest: 0.8461538 (13)\ttotal: 11.2ms\tremaining: 10.7ms\n",
      "99:\tlearn: 0.9108911\ttest: 0.7666667\tbest: 0.8461538 (13)\ttotal: 24.3ms\tremaining: 0us\n",
      "\n",
      "bestTest = 0.8461538462\n",
      "bestIteration = 13\n",
      "\n",
      "Shrink model to first 14 iterations.\n"
     ]
    }
   ],
   "source": [
    "#Let's find the model's Precision\n",
    "tuned_model = CatBoostClassifier(\n",
    "    loss_function=\"Logloss\",\n",
    "    per_float_feature_quantization='2:border_count=1024',\n",
    "    eval_metric=\"Precision\",\n",
    "    max_depth=1,\n",
    "    learning_rate=0.1,\n",
    "    iterations=100,\n",
    "    od_wait = 100\n",
    ")\n",
    "\n",
    "tuned_model.fit(x_train,y_train,\n",
    "               verbose=50,\n",
    "               eval_set=(x_test,y_test),\n",
    "               use_best_model=True,\n",
    "               plot=False);\n"
   ]
  },
  {
   "cell_type": "code",
   "execution_count": 113,
   "id": "fcadf8f5",
   "metadata": {},
   "outputs": [
    {
     "name": "stdout",
     "output_type": "stream",
     "text": [
      "0:\tlearn: 0.6697248\ttest: 0.5357143\tbest: 0.5357143 (0)\ttotal: 336us\tremaining: 33.3ms\n",
      "50:\tlearn: 0.8073394\ttest: 0.8214286\tbest: 0.8571429 (20)\ttotal: 11.2ms\tremaining: 10.7ms\n",
      "99:\tlearn: 0.8440367\ttest: 0.8214286\tbest: 0.8571429 (20)\ttotal: 24.2ms\tremaining: 0us\n",
      "\n",
      "bestTest = 0.8571428571\n",
      "bestIteration = 20\n",
      "\n",
      "Shrink model to first 21 iterations.\n"
     ]
    }
   ],
   "source": [
    "#Let's find the models recall\n",
    "tuned_model = CatBoostClassifier(\n",
    "    loss_function=\"Logloss\",\n",
    "    per_float_feature_quantization='2:border_count=1024',\n",
    "    eval_metric=\"Recall\",\n",
    "    max_depth=1,\n",
    "    learning_rate=0.1,\n",
    "    iterations=100,\n",
    "    od_wait = 100\n",
    ")\n",
    "\n",
    "tuned_model.fit(x_train,y_train,\n",
    "               verbose=50,\n",
    "               eval_set=(x_test,y_test),\n",
    "               use_best_model=True,\n",
    "                plot=False);"
   ]
  },
  {
   "cell_type": "code",
   "execution_count": 91,
   "id": "6294b7af",
   "metadata": {},
   "outputs": [
    {
     "name": "stdout",
     "output_type": "stream",
     "text": [
      "0:\tlearn: 0.7263682\ttest: 0.5882353\tbest: 0.5882353 (0)\ttotal: 287us\tremaining: 28.5ms\n",
      "50:\tlearn: 0.8543689\ttest: 0.7931034\tbest: 0.8421053 (20)\ttotal: 8.82ms\tremaining: 8.47ms\n",
      "99:\tlearn: 0.8761905\ttest: 0.7931034\tbest: 0.8421053 (20)\ttotal: 17.1ms\tremaining: 0us\n",
      "\n",
      "bestTest = 0.8421052632\n",
      "bestIteration = 20\n",
      "\n",
      "Shrink model to first 21 iterations.\n"
     ]
    }
   ],
   "source": [
    "#Let's find the models f1 score\n",
    "tuned_model = CatBoostClassifier(\n",
    "    loss_function=\"Logloss\",\n",
    "    per_float_feature_quantization='2:border_count=1024',\n",
    "    eval_metric=\"F1\",\n",
    "    max_depth=1,\n",
    "    learning_rate=0.1,\n",
    "    iterations=100,\n",
    "    od_wait = 100\n",
    ")\n",
    "\n",
    "tuned_model.fit(x_train,y_train,\n",
    "               verbose=50,\n",
    "               eval_set=(x_test,y_test),\n",
    "               use_best_model=True,\n",
    "               plot=False);\n"
   ]
  },
  {
   "cell_type": "code",
   "execution_count": 124,
   "id": "84761d7f",
   "metadata": {},
   "outputs": [
    {
     "data": {
      "image/png": "[encoded data removed]",
      "text/plain": [
       "<Figure size 1152x576 with 1 Axes>"
      ]
     },
     "metadata": {
      "needs_background": "light"
     },
     "output_type": "display_data"
    }
   ],
   "source": [
    "from catboost.utils import get_confusion_matrix,get_roc_curve\n",
    "from catboost import Pool\n",
    "from sklearn.metrics import roc_auc_score,accuracy_score\n",
    "predictions=Pool(x_test,y_test)\n",
    "get_roc_curve(tuned_model,predictions,plot=True);"
   ]
  },
  {
   "cell_type": "code",
   "execution_count": 130,
   "id": "405287d7",
   "metadata": {},
   "outputs": [],
   "source": [
    "import pickle\n",
    "pickle.dump(tuned_model,open(\"tuned-catboost-model.pkl\",\"wb\"))\n"
   ]
  },
  {
   "cell_type": "code",
   "execution_count": null,
   "id": "2d427954",
   "metadata": {},
   "outputs": [],
   "source": []
  }
 ],
 "metadata": {
  "kernelspec": {
   "display_name": "Python 3 (ipykernel)",
   "language": "python",
   "name": "python3"
  },
  "language_info": {
   "codemirror_mode": {
    "name": "ipython",
    "version": 3
   },
   "file_extension": ".py",
   "mimetype": "text/x-python",
   "name": "python",
   "nbconvert_exporter": "python",
   "pygments_lexer": "ipython3",
   "version": "3.9.12"
  }
 },
 "nbformat": 4,
 "nbformat_minor": 5
}
